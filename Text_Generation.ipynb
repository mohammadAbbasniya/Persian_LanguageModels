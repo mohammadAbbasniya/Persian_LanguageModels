{
  "cells": [
    {
      "cell_type": "code",
      "source": [
        "import gdown\n",
        "gdown.download_folder('https://drive.google.com/drive/folders/1H8ZMp2fR_scNwS9tptSIuV-MeUz_Lbg2', quiet=True)"
      ],
      "metadata": {
        "id": "Pxj2NUlP8fNG",
        "colab": {
          "base_uri": "https://localhost:8080/"
        },
        "outputId": "4ac66e8f-55b6-42aa-e016-2d323bd02c46"
      },
      "execution_count": null,
      "outputs": [
        {
          "output_type": "execute_result",
          "data": {
            "text/plain": [
              "['/content/402204306-hw2-resources/BPE_tokenizer_5000.pkl',\n",
              " '/content/402204306-hw2-resources/BPE_tokenizer_20000.pkl',\n",
              " '/content/402204306-hw2-resources/tokenized_1M_sentences_BPE_20K.pkl']"
            ]
          },
          "metadata": {},
          "execution_count": 1
        }
      ]
    },
    {
      "cell_type": "markdown",
      "metadata": {
        "id": "bCRLSorjiA7u"
      },
      "source": [
        "# Prepare Data"
      ]
    },
    {
      "cell_type": "markdown",
      "metadata": {
        "id": "KGufZEgsmxla"
      },
      "source": [
        "## Download dataset"
      ]
    },
    {
      "cell_type": "code",
      "execution_count": null,
      "metadata": {
        "execution": {
          "iopub.execute_input": "2024-11-20T06:31:54.922997Z",
          "iopub.status.busy": "2024-11-20T06:31:54.922608Z",
          "iopub.status.idle": "2024-11-20T06:31:57.771177Z",
          "shell.execute_reply": "2024-11-20T06:31:57.769891Z"
        },
        "papermill": {
          "duration": 2.855819,
          "end_time": "2024-11-20T06:31:57.773493",
          "exception": false,
          "start_time": "2024-11-20T06:31:54.917674",
          "status": "completed"
        },
        "tags": [],
        "id": "318f6a23",
        "outputId": "c0752b16-ac06-4049-cc3b-034bff5de5d4",
        "colab": {
          "base_uri": "https://localhost:8080/"
        }
      },
      "outputs": [
        {
          "output_type": "stream",
          "name": "stdout",
          "text": [
            "عنوان مقاله: صفحهٔ اصلی\n",
            "\n",
            "<templatestyles src=\"صفحه اصلی/\n",
            "\n",
            "\n",
            "\n",
            "عنوان مقاله: ویکی پدیا\n",
            "\n",
            "ویکی پدیا (کوته نوشت به صورت «وپ» و «WP») یک دانشنامه برخط چندزبانه مبتنی بر وب با محتوای آزاد و همکاری باز است که با همکاری افراد داوطلب نوشته می شود و هر کسی که به اینترنت و وب دسترسی داشته باشد می تواند مقالات آن را ببیند و ویرایش کند. نام ویکی پدیا واژه ای ترکیبی است که از واژه های ویکی (وبگاه مشارکتی) و اِنسایکلوپدیا (Encyclopedia) (دانشنامه یا دائرةالمعارف) گرفته شده است. هدف ویکی پدیا آفرینش و انتشار جهانی یک دانشنامه با محتوای آزاد به تمامی زبان های زندهٔ دنیا است.\n",
            "\n",
            "ویکی پدیای انگلیسی در تاریخ ۱۵ ژانویه ۲۰۰۱ (۲۶ دی ۱۳۷۹) به صورت مکملی برای دانشنامهٔ تخصصی نیوپدیا نوشته شد. بنیان گذاران آن «جیمی ویلز» و «لری سنگر» هستند. هم اکنون بنیاد غیرانتفاعی ویکی مدیا پروژهٔ ویکی پدیا را پشتیبانی می کند. میزبان های اینترنتی اصلی این وبگاه در شهر تامپای فلوریدا هستند. همچنین میزبان های اضافی دیگری هم در شهرهای آمستردام و سئول به این وبگاه یاری می رسانند.\n",
            "\n",
            "\"ویکی پدیا\" از پایان آوریل ۲۰۰۷ تا اکتبر ۲۰۱۹، یکی از ۱۰ وبگاه برتر جهان از لحاظ شمار بازدیدکنندگان بوده است که بیش از نیمی از بازدیدها به ویکی پدیای انگلیسی مربوط می شود.\n",
            "\n",
            "در میان تمام زبان های ویکی پدیا تا دسامبر ۲۰۱۵ (آذر ۱۳۹۴) بیش از ۱۴۱ میلیون صفحه وجود دارد که بیش از سی و هفت میلیون عدد از آن ها مقاله است. از زبان های مشهور به ترتیب زبان انگلیسی بیش از ۵ میلیون، سوئدی ۲٫۱ میلیون، آلمانی ۱٫۸ میلیون، هلندی ۱٫۸ میلیون، فرانسوی ۱٫۷ میلیون، روسی ۱٫۲ میلیون، ایتالیایی ۱٫۲ میلیون، اسپانیایی ۱٫۲ میلیون، لهستانی ۱٫۱ میلیون، ویتنامی ۱٫۱ میلیون و ژاپنی و پرتغالی و چینی هر کدام بیش از ۸۵۰ هزار مقاله دارند. تعداد کاربران ثبت نام شده حدود ۵۹ میلیون نفر است که از میان آنها، ۴٫۰۲۲ نفر مدیر هستند. ویکی پدیا دربرگیرندهٔ ۲۸۱ زبان با بیش از ۱۰ مقاله و در کل دارای ۲۹۱ گونهٔ زبان ملل دنیا است.\n",
            "\n",
            "اعتبار \"ویکی پدیا\" دائماً مورد اختلاف بوده است. برخی آن را به خاطر انتشار رایگان، ویژگی قابل ویرایش بودن، سیاست بی طرفی و گستردگی عناوین ستوده اند. از سوی دیگر، منتقدین درستی و اعتبار ویکی پدیا را به خاطر آزادی ویرایش زیر سؤال برده اند، همچنین ویکی پدیا به خاطر آس\n"
          ]
        }
      ],
      "source": [
        "dataset_path = '/kaggle/input/persian-wikipedia-dataset/Persian-WikiText-1.txt'\n",
        "\n",
        "# # ____ Uncomment these lines if runing on colab ____\n",
        "# !mkdir ~/.kaggle\n",
        "# !cp ./kaggle.json ~/.kaggle/\n",
        "# !chmod 600 ~/.kaggle/kaggle.json\n",
        "# !kaggle datasets download miladfa7/persian-wikipedia-dataset -f Persian-WikiText-1.txt\n",
        "# !unzip Persian-WikiText-1.txt.zip\n",
        "# dataset_path = 'Persian-WikiText-1.txt'\n",
        "\n",
        "with open(dataset_path, 'r') as file:\n",
        "    corpus = file.read()\n",
        "\n",
        "print(corpus[:2000])"
      ]
    },
    {
      "cell_type": "markdown",
      "source": [
        "## Pre-processing"
      ],
      "metadata": {
        "id": "-KuM0m2f__T1"
      }
    },
    {
      "cell_type": "code",
      "execution_count": null,
      "metadata": {
        "execution": {
          "iopub.execute_input": "2024-11-20T06:31:57.781254Z",
          "iopub.status.busy": "2024-11-20T06:31:57.780778Z",
          "iopub.status.idle": "2024-11-20T06:32:21.165720Z",
          "shell.execute_reply": "2024-11-20T06:32:21.164154Z"
        },
        "papermill": {
          "duration": 23.391621,
          "end_time": "2024-11-20T06:32:21.168332",
          "exception": false,
          "start_time": "2024-11-20T06:31:57.776711",
          "status": "completed"
        },
        "tags": [],
        "id": "7eb7cddb",
        "outputId": "225d3e89-f1aa-48d1-e51d-364ffd6b7d23",
        "colab": {
          "base_uri": "https://localhost:8080/"
        }
      },
      "outputs": [
        {
          "output_type": "stream",
          "name": "stdout",
          "text": [
            "removing stop words...\n",
            "removing stop chars...\n",
            "removing english alphabets...\n",
            "removing white spaces...\n",
            "عنوان مقاله صفحه اصلی\n",
            "\n",
            " صفحه اصلی\n",
            "\n",
            "\n",
            "\n",
            "عنوان مقاله ویکی پدیا\n",
            "\n",
            "ویکی پدیا کوته نوشت به صورت وپ و یک دانشنامه برخط چندزبانه مبتنی بر وب با محتوای آزاد و همکاری باز است که با همکاری افراد داوطلب نوشته می شود و هر کسی که به اینترنت و وب دسترسی داشته باشد می تواند مقالات آن را ببیند و ویرایش کند. نام ویکی پدیا واژه ای ترکیبی است که از واژه های ویکی وبگاه مشارکتی و انسایکلوپدیا دانشنامه یا دائرةالمعارف گرفته شده است. هدف ویکی پدیا آفرینش و انتشار جهانی یک دانشنامه با محتوای آزاد به تمامی زبان های زنده دنیا است.\n",
            "\n",
            "ویکی پدیای انگلیسی در تاریخ ژانویه دی به صورت مکملی برای دانشنامه تخصصی نیوپدیا نوشته شد. بنیان گذاران آن جیمی ویلز و لری سنگر هستند. هم اکنون بنیاد غیرانتفاعی ویکی مدیا پروژه ویکی پدیا را پشتیبانی می کند. میزبان های اینترنتی اصلی این وبگاه در شهر تامپای فلوریدا هستند. همچنین میزبان های اضافی دیگری هم در شهرهای آمستردام و سئول به این وبگاه یاری می رسانند.\n",
            "\n",
            "ویکی پدیا از پایان آوریل تا اکتبر یکی از وبگاه برتر جهان از لحاظ شمار بازدیدکنندگان بوده است که بیش از نیمی از بازدیدها به ویکی پدیای انگلیسی مربوط می شود.\n",
            "\n",
            "در میان تمام زبان های ویکی پدیا تا دسامبر آذر بیش از میلیون صفحه وجود دارد که بیش از سی و هفت میلیون عدد از آن ها مقاله است. از زبان های مشهور به ترتیب زبان انگلیسی بیش از میلیون سوئدی میلیون آلمانی میلیون هلندی میلیون فرانسوی میلیون روسی میلیون ایتالیایی میلیون اسپانیایی میلیون لهستانی میلیون ویتنامی میلیون و ژاپنی و پرتغالی و چینی هر کدام بیش از هزار مقاله دارند. تعداد کاربران ثبت نام شده حدود میلیون نفر است که از میان آنها نفر مدیر هستند. ویکی پدیا دربرگیرنده زبان با بیش از مقاله و در کل دارای گونه زبان ملل دنیا است.\n",
            "\n",
            "اعتبار ویکی پدیا دائما مورد اختلاف بوده است. برخی آن را به خاطر انتشار رایگان ویژگی قابل ویرایش بودن سیاست بی طرفی و گستردگی عناوین ستوده اند. از سوی دیگر منتقدین درستی و اعتبار ویکی پدیا را به خاطر آزادی ویرایش زیر سؤال برده اند همچنین ویکی پدیا به خاطر آسیب پذیری در برابر خرابکاری کیفیت غیریکنواخت سوگیری نظام مند بی ثباتی و نیز به خاطر ترجیح اجماع بر اعتبار در سبک ویرایش مقالات نقد شده است. در مقابل و ویکی پدیا توسط کاربرانی تهیه می شود که در\n"
          ]
        }
      ],
      "source": [
        "import re\n",
        "\n",
        "stop_chars = ['\\u200c', '\"', \"'\", '#', '(', ')', '*', ',', '-', '_', '~', '/', '\\\\', '|', ':', '[', ']', '«', '»', '<', '>', '،', '٫', '؛', '؟', '%', '٪', '…', '$', '&', '@', '=', '+', '`','۰', '۱', '۲', '۳', '۴', '۵', '۶', '۷', '۸', '۹', 'ْ', 'ٌ', 'ٍ', 'ً', 'ُ', 'ِ', 'َ', 'ّ', 'ء', 'ٔ', 'ٰ', '﷼']\n",
        "stop_words = ['عنوان مقاله:']\n",
        "\n",
        "\n",
        "# remove stop words\n",
        "print('removing stop words...')\n",
        "pattern = re.compile(r'\\b(' + r'|'.join(stop_words) + r')\\b\\s*')\n",
        "corpus_prep = pattern.sub(' ', corpus)\n",
        "\n",
        "# remove HTML tags\n",
        "corpus_prep = re.sub(r'<.*?>' , '', corpus_prep)\n",
        "\n",
        "# remove stop_chars\n",
        "print('removing stop chars...')\n",
        "for ch in stop_chars:\n",
        "  corpus_prep = corpus_prep.replace(ch, '')\n",
        "\n",
        "# remove english alphabets\n",
        "print('removing english alphabets...')\n",
        "corpus_prep = re.sub(r'[a-zA-Z]', '', corpus_prep)\n",
        "\n",
        "# remove white spaces\n",
        "print('removing white spaces...')\n",
        "corpus_prep = re.sub(r'[ \\t\\r\\f\\v]+', ' ', corpus_prep)\n",
        "\n",
        "print(corpus_prep[:2000])"
      ]
    },
    {
      "cell_type": "code",
      "execution_count": null,
      "metadata": {
        "execution": {
          "iopub.execute_input": "2024-11-20T06:32:21.177809Z",
          "iopub.status.busy": "2024-11-20T06:32:21.176872Z",
          "iopub.status.idle": "2024-11-20T06:32:21.429766Z",
          "shell.execute_reply": "2024-11-20T06:32:21.428726Z"
        },
        "papermill": {
          "duration": 0.260054,
          "end_time": "2024-11-20T06:32:21.431871",
          "exception": false,
          "start_time": "2024-11-20T06:32:21.171817",
          "status": "completed"
        },
        "tags": [],
        "id": "4bdf94a1",
        "outputId": "d2e24fa2-a2a0-45af-c751-c75285c11523",
        "colab": {
          "base_uri": "https://localhost:8080/"
        }
      },
      "outputs": [
        {
          "output_type": "execute_result",
          "data": {
            "text/plain": [
              "['عنوان مقاله صفحه اصلی',\n",
              " 'عنوان مقاله ویکی پدیا',\n",
              " 'ویکی پدیا کوته نوشت به صورت وپ و یک دانشنامه برخط چندزبانه مبتنی بر وب با محتوای آزاد و همکاری باز است که با همکاری افراد داوطلب نوشته می شود و هر کسی که به اینترنت و وب دسترسی داشته باشد می تواند مقالات آن را ببیند و ویرایش کند. نام ویکی پدیا واژه ای ترکیبی است که از واژه های ویکی وبگاه مشارکتی و انسایکلوپدیا دانشنامه یا دائرةالمعارف گرفته شده است. هدف ویکی پدیا آفرینش و انتشار جهانی یک دانشنامه با محتوای آزاد به تمامی زبان های زنده دنیا است.',\n",
              " 'ویکی پدیای انگلیسی در تاریخ ژانویه دی به صورت مکملی برای دانشنامه تخصصی نیوپدیا نوشته شد. بنیان گذاران آن جیمی ویلز و لری سنگر هستند. هم اکنون بنیاد غیرانتفاعی ویکی مدیا پروژه ویکی پدیا را پشتیبانی می کند. میزبان های اینترنتی اصلی این وبگاه در شهر تامپای فلوریدا هستند. همچنین میزبان های اضافی دیگری هم در شهرهای آمستردام و سئول به این وبگاه یاری می رسانند.',\n",
              " 'ویکی پدیا از پایان آوریل تا اکتبر یکی از وبگاه برتر جهان از لحاظ شمار بازدیدکنندگان بوده است که بیش از نیمی از بازدیدها به ویکی پدیای انگلیسی مربوط می شود.']"
            ]
          },
          "metadata": {},
          "execution_count": 8
        }
      ],
      "source": [
        "sentences = []\n",
        "\n",
        "for line in corpus_prep.split('\\n'):\n",
        "  if len(line) > 20:  # ignore short lines\n",
        "    sentences.append(line)\n",
        "\n",
        "sentences[:5]"
      ]
    },
    {
      "cell_type": "markdown",
      "source": [
        "# Tokenization\n",
        "\n",
        "\n",
        "<div dir=rtl>\n",
        "در این بخش ابتدا یک BPE Tokenizer را from scratch آموزش میدهیم ولی بخاطر این که دقت این کار اهمیت زیادی در نتیجه دارد در ادامه یک Tokenizer با کمک کتابخانه Hazm پیاده سازی میکنیم و از نتیجه آن برای آموزش مدل زبانی استفاده خواهیم کرد.\n",
        "</div>."
      ],
      "metadata": {
        "id": "y7dHU-l1PINf"
      }
    },
    {
      "cell_type": "markdown",
      "source": [
        "## Tokenize with BPE (from scratch)"
      ],
      "metadata": {
        "id": "0LZkBNjKAC4d"
      }
    },
    {
      "cell_type": "markdown",
      "source": [
        "<div dir=rtl>\n",
        "\n",
        "\n",
        "\n",
        "<h3>نحوه عملکرد BPE</h3>\n",
        "\n",
        "\n",
        "\n",
        "1. **شمارش جفت‌های پیاپی:** الگوریتم با شمارش جفت‌های کاراکتر (بایت) در متن آغاز می‌شود. به عنوان مثال، در کلمه \"کمپیوتر\" جفت‌های پیاپی همچون \"کم\" و \"مپ\" شناسایی می‌شوند.\n",
        "\n",
        "\n",
        "\n",
        "2. **یافتن پرکاربردترین جفت:** بعد از شمارش، BPE پرکاربردترین جفت بایت‌ها را شناسایی کرده و آن‌ها را به یک نماد جدید (توکن) ترکیب می‌کند. به عنوان مثال، ممکن است \"کم\" را به \"X\" تبدیل کند.\n",
        "\n",
        "\n",
        "\n",
        "3. **تکرار فرآیند:** این فرآیند برای تعداد مشخصی از تکرارها ادامه می‌یابد یا تا زمانی که به یک سطح خاصی از توکن‌ها دست یابد.\n",
        "\n",
        "\n",
        "\n",
        "4. **نهایی کردن توکن‌ها:** در نهایت، مدل شامل توکن‌های جدید و تعداد محدودی از توکن‌های اصلی متنی است. این توکن‌ها می‌توانند برای پردازش‌های بعدی مانند یادگیری ماشینی مورد استفاده قرار گیرند.\n",
        "\n",
        "\n",
        "\n",
        "<h3>مزایا</h3>\n",
        "\n",
        "\n",
        "\n",
        "- **انعطاف‌پذیری:** BPE می‌تواند به سادگی با انواع مختلف متون کار کند و به خوبی می‌تواند لغت‌های نادر را نیز شناسایی کند.\n",
        "\n",
        "\n",
        "\n",
        "- **افزایش کارایی:** با کاهش ابعاد داده‌ها، زمان و هزینه محاسباتی برای پردازش متون کاهش می‌یابد.\n",
        "\n",
        "\n",
        "\n",
        "- **کاهش تعداد توکن‌ها:** این الگوریتم می‌تواند تعداد توکن‌های تولید شده را به طور محسوسی کاهش دهد، که به بهبود عملکرد مدل‌های یادگیری عمیق کمک می‌کند.\n",
        "\n",
        "\n",
        "\n",
        "- **قابلیت ایجاد کلمات جدید:** BPE قابلیت تولید توکن‌هایی برای کلمات جدید و نادر را دارد که در متون موجود دیده نمی‌شوند.\n",
        "\n",
        "\n",
        "\n",
        "<h3>معایب</h3>\n",
        "\n",
        "\n",
        "\n",
        "- **از دست دادن اطلاعات:** در برخی موارد، ترکیب کاراکترها می‌تواند منجر به از دست رفتن اطلاعات مهم معنایی شود.\n",
        "\n",
        "\n",
        "\n",
        "- **پیچیدگی محاسباتی:** با افزایش اندازه متن، شمارش و ترکیب جفت‌ها می‌تواند زمان‌بر و پیچیده شود.\n",
        "\n",
        "\n",
        "\n",
        "- **نبود کنترل بر توکن‌ها:** BPE به بهینه‌سازی کاراکترهای مشترک می‌پردازد، اما ممکن است نیاز به تنظیمات خاص برای تولید توکن‌های معنا‌دارتر باشد.\n",
        "\n",
        "\n",
        "\n",
        "</div>\n"
      ],
      "metadata": {
        "id": "PkNnex02IQSc"
      }
    },
    {
      "cell_type": "code",
      "execution_count": null,
      "metadata": {
        "execution": {
          "iopub.execute_input": "2024-11-20T06:32:21.440139Z",
          "iopub.status.busy": "2024-11-20T06:32:21.439775Z",
          "iopub.status.idle": "2024-11-20T06:32:21.481404Z",
          "shell.execute_reply": "2024-11-20T06:32:21.480524Z"
        },
        "papermill": {
          "duration": 0.04845,
          "end_time": "2024-11-20T06:32:21.483685",
          "exception": false,
          "start_time": "2024-11-20T06:32:21.435235",
          "status": "completed"
        },
        "tags": [],
        "id": "fb1f8ca0"
      },
      "outputs": [],
      "source": [
        "from collections import Counter, defaultdict\n",
        "from tqdm import tqdm\n",
        "import pickle\n",
        "\n",
        "class BPE():\n",
        "    \"\"\"Byte-Pair Encoding: Subword-based tokenization algorithm.\"\"\"\n",
        "\n",
        "    def __init__(self, vocab_size, show_bar=True):\n",
        "        self.vocab_size = vocab_size\n",
        "        self.show_bar = show_bar\n",
        "\n",
        "        # pre-tokenize the corpus into words, BERT pre-tokenizer is used here.\n",
        "        self.word_freqs = defaultdict(int)\n",
        "        self.vocab = []\n",
        "        self.splits = {}\n",
        "        self.merges = {}\n",
        "        self.token2id = {}\n",
        "        self.id2token = {}\n",
        "        self.BOS = 0 # (Special Token) Beginning of Sequence\n",
        "        self.EOS = 1 # (Special Token) End of Sequence\n",
        "        self.UNK = 2 # (Special Token) Unknown\n",
        "        self.PAD = 3 # (Special Token) Padding\n",
        "\n",
        "\n",
        "    def save(self, path):\n",
        "        pickle.dump(self, file = open(path, \"wb\"))\n",
        "\n",
        "\n",
        "    @staticmethod\n",
        "    def load(path):\n",
        "        return pickle.load(open(path, \"rb\"))\n",
        "\n",
        "\n",
        "    def tokens_to_ids(self, tokens, truncate_size=None):\n",
        "        assert len(self.vocab) > 0 , '--> BPE is not trained yet'\n",
        "\n",
        "        tokens = ['<BOS>'] + tokens + ['<EOS>']\n",
        "        res = []\n",
        "        max_len = len(tokens) if truncate_size is None else min(len(tokens), truncate_size)\n",
        "        for i in range(max_len):\n",
        "            if tokens[i] in self.token2id:\n",
        "                res.append(self.token2id[tokens[i]])\n",
        "            else:\n",
        "                res.append(self.UNK)\n",
        "\n",
        "        if truncate_size is not None:\n",
        "           res = res + [self.PAD]*(truncate_size - len(res))\n",
        "        return res\n",
        "\n",
        "\n",
        "    def ids_to_tokens(self, ids, remove_specials=True):\n",
        "        assert len(self.vocab) > 0 , '--> BPE is not trained yet'\n",
        "\n",
        "        if remove_specials:\n",
        "            ids = [i for i in ids if i not in [self.EOS, self.BOS, self.PAD]]\n",
        "\n",
        "        res = []\n",
        "        for i in ids:\n",
        "            if i in self.id2token:\n",
        "                res.append(self.id2token[i])\n",
        "            else:\n",
        "                res.append('<UNK>')\n",
        "        return res\n",
        "\n",
        "\n",
        "    def tokenize(self, text, return_ids=False, pad_size=None):\n",
        "        assert len(self.vocab) > 0 , '--> BPE is not trained yet'\n",
        "        pre_tokenized_text = self._pre_tokenize_str(text)\n",
        "        splits_text = [[l for l in word] for word in pre_tokenized_text]\n",
        "        for pair, merge in self.merges.items():\n",
        "            for idx, split in enumerate(splits_text):\n",
        "                i = 0\n",
        "                while i < len(split) - 1:\n",
        "                    if split[i] == pair[0] and split[i + 1] == pair[1]:\n",
        "                        split = split[:i] + [merge] + split[i + 2 :]\n",
        "                    else:\n",
        "                        i += 1\n",
        "                splits_text[idx] = split\n",
        "        result = sum(splits_text, [])\n",
        "\n",
        "        if return_ids:\n",
        "            return self.tokens_to_ids(result, pad_size)\n",
        "        else:\n",
        "            return result\n",
        "\n",
        "\n",
        "    def train(self, sentences):\n",
        "        # compute the frequencies of each word in the corpus\n",
        "        for text in sentences:\n",
        "            words = self._pre_tokenize_str(text)\n",
        "            for word in words:\n",
        "                self.word_freqs[word] += 1\n",
        "\n",
        "        # compute the base vocabulary of all characters in the corpus\n",
        "        alphabet = []\n",
        "        for word in self.word_freqs.keys():\n",
        "            for letter in word:\n",
        "                if letter not in alphabet:\n",
        "                    alphabet.append(letter)\n",
        "        alphabet.sort()\n",
        "\n",
        "        # add the special token </w> at the beginning of the vocabulary\n",
        "        self.vocab = [\"</w>\"] + alphabet.copy()\n",
        "\n",
        "        # split each word into individual characters before training\n",
        "        self.splits = {word: [c for c in word] for word in self.word_freqs.keys()}\n",
        "\n",
        "        # merge the most frequent pair iteratively until the vocabulary size is reached\n",
        "        if self.show_bar:\n",
        "            pbar = tqdm(total=self.vocab_size, initial=len(self.vocab))\n",
        "\n",
        "        while len(self.vocab) < self.vocab_size:\n",
        "            # compute the frequency of each pair\n",
        "            pair_freqs = self._compute_pair_freqs()\n",
        "\n",
        "            # find the most frequent pair\n",
        "            best_pair = \"\"\n",
        "            max_freq = None\n",
        "            for pair, freq in pair_freqs.items():\n",
        "                if max_freq is None or max_freq < freq:\n",
        "                    best_pair = pair\n",
        "                    max_freq = freq\n",
        "\n",
        "            # merge the most frequent pair\n",
        "            self.splits = self._merge_pair(*best_pair)\n",
        "            self.merges[best_pair] = best_pair[0] + best_pair[1]\n",
        "            self.vocab.append(best_pair[0] + best_pair[1])\n",
        "\n",
        "            if self.show_bar:\n",
        "                pbar.update(len(self.vocab) - pbar.n)\n",
        "\n",
        "        # generate mapping token (word) to id and its reverse\n",
        "        id_counter = 4\n",
        "        self.token2id = {\n",
        "            '<BOS>' : self.BOS,\n",
        "            '<EOS>' : self.EOS,\n",
        "            '<UNK>' : self.UNK,\n",
        "            '<PAD>' : self.PAD,\n",
        "        }\n",
        "        for token in self.vocab:\n",
        "          self.token2id[token] = id_counter\n",
        "          id_counter += 1\n",
        "        self.id2token = {v:k for k,v in self.token2id.items()}\n",
        "        return self\n",
        "\n",
        "\n",
        "    def get_vocab_size(self):\n",
        "        return len(self.token2id)\n",
        "\n",
        "\n",
        "    def _pre_tokenize_str(self, text):\n",
        "        return text.split()\n",
        "\n",
        "\n",
        "    def _compute_pair_freqs(self):\n",
        "        pair_freqs = defaultdict(int)\n",
        "        for word, freq in self.word_freqs.items():\n",
        "            split = self.splits[word]\n",
        "            if len(split) == 1:\n",
        "                continue\n",
        "            for i in range(len(split) - 1):\n",
        "                pair = (split[i], split[i + 1])\n",
        "                pair_freqs[pair] += freq\n",
        "        return pair_freqs\n",
        "\n",
        "\n",
        "    def _merge_pair(self, a, b):\n",
        "        for word in self.word_freqs:\n",
        "            split = self.splits[word]\n",
        "            if len(split) == 1:\n",
        "                continue\n",
        "            i = 0\n",
        "            while i < len(split) - 1:\n",
        "                if split[i] == a and split[i + 1] == b:\n",
        "                    split = split[:i] + [a + b] + split[i + 2 :]\n",
        "                else:\n",
        "                    i += 1\n",
        "            self.splits[word] = split\n",
        "        return self.splits"
      ]
    },
    {
      "cell_type": "markdown",
      "source": [
        "### Train tokenizer"
      ],
      "metadata": {
        "id": "yVchHSj6AKaP"
      }
    },
    {
      "cell_type": "code",
      "execution_count": null,
      "metadata": {
        "execution": {
          "iopub.execute_input": "2024-11-20T06:32:21.491716Z",
          "iopub.status.busy": "2024-11-20T06:32:21.491341Z",
          "iopub.status.idle": "2024-11-20T10:15:20.474218Z",
          "shell.execute_reply": "2024-11-20T10:15:20.473107Z"
        },
        "papermill": {
          "duration": 13378.989759,
          "end_time": "2024-11-20T10:15:20.476810",
          "exception": false,
          "start_time": "2024-11-20T06:32:21.487051",
          "status": "completed"
        },
        "tags": [],
        "id": "ccbd765c",
        "outputId": "5e06bb8a-d85c-416b-db5b-33daba90509e"
      },
      "outputs": [
        {
          "name": "stderr",
          "output_type": "stream",
          "text": [
            "100%|██████████| 20000/20000 [3:42:53<00:00,  1.38it/s]\n"
          ]
        }
      ],
      "source": [
        "BPE_tokenizer = BPE(vocab_size = 20000)\n",
        "BPE_tokenizer.train(sentences)\n",
        "BPE_tokenizer.save('BPE_tokenizer_20000.pkl')"
      ]
    },
    {
      "cell_type": "markdown",
      "source": [
        "### Test Tokenizer"
      ],
      "metadata": {
        "id": "nZSeUO8TAOP9"
      }
    },
    {
      "cell_type": "code",
      "execution_count": null,
      "metadata": {
        "execution": {
          "iopub.execute_input": "2024-11-20T10:15:22.612771Z",
          "iopub.status.busy": "2024-11-20T10:15:22.612338Z",
          "iopub.status.idle": "2024-11-20T10:15:22.618049Z",
          "shell.execute_reply": "2024-11-20T10:15:22.617101Z"
        },
        "papermill": {
          "duration": 1.048184,
          "end_time": "2024-11-20T10:15:22.620181",
          "exception": false,
          "start_time": "2024-11-20T10:15:21.571997",
          "status": "completed"
        },
        "tags": [],
        "id": "aa666194"
      },
      "outputs": [],
      "source": [
        "def test(text):\n",
        "    tokens = BPE_tokenizer.tokenize(text)\n",
        "    ids = BPE_tokenizer.tokens_to_ids(tokens)\n",
        "\n",
        "    print(f\" INPUT:\\n'{text}'\")\n",
        "    print(f\"\\n Tokenized:\\n '{tokens}'\")\n",
        "    print(f\"\\n Token IDs:\\n '{ids}'\")\n",
        "    print(f\"\\n Token IDs (truncate=20):\\n '{BPE_tokenizer.tokens_to_ids(tokens, truncate_size=20)}'\")\n",
        "    print(f\"\\n Token IDs (truncate=10):\\n '{BPE_tokenizer.tokens_to_ids(tokens, truncate_size=10)}'\")"
      ]
    },
    {
      "cell_type": "code",
      "execution_count": null,
      "metadata": {
        "execution": {
          "iopub.execute_input": "2024-11-20T10:15:24.699209Z",
          "iopub.status.busy": "2024-11-20T10:15:24.698786Z",
          "iopub.status.idle": "2024-11-20T10:15:24.727013Z",
          "shell.execute_reply": "2024-11-20T10:15:24.725775Z"
        },
        "papermill": {
          "duration": 1.066282,
          "end_time": "2024-11-20T10:15:24.729189",
          "exception": false,
          "start_time": "2024-11-20T10:15:23.662907",
          "status": "completed"
        },
        "tags": [],
        "id": "4035986b",
        "outputId": "9c62a5fd-253e-423e-e7f7-70b1558a4dc2"
      },
      "outputs": [
        {
          "name": "stdout",
          "output_type": "stream",
          "text": [
            " INPUT:\n",
            "'عنوان مقاله ویکی پدیا'\n",
            "\n",
            " Tokenized:\n",
            " '['عنوان', 'مقاله', 'ویکی', 'پدیا']'\n",
            "\n",
            " Token IDs:\n",
            " '[0, 1632, 1863, 4154, 6948, 1]'\n",
            "\n",
            " Token IDs (truncate=20):\n",
            " '[0, 1632, 1863, 4154, 6948, 1, 3, 3, 3, 3, 3, 3, 3, 3, 3, 3, 3, 3, 3, 3]'\n",
            "\n",
            " Token IDs (truncate=10):\n",
            " '[0, 1632, 1863, 4154, 6948, 1, 3, 3, 3, 3]'\n"
          ]
        }
      ],
      "source": [
        "test(sentences[1])"
      ]
    },
    {
      "cell_type": "code",
      "execution_count": null,
      "metadata": {
        "execution": {
          "iopub.execute_input": "2024-11-20T10:15:26.758655Z",
          "iopub.status.busy": "2024-11-20T10:15:26.758273Z",
          "iopub.status.idle": "2024-11-20T10:15:27.351946Z",
          "shell.execute_reply": "2024-11-20T10:15:27.350918Z"
        },
        "papermill": {
          "duration": 1.573806,
          "end_time": "2024-11-20T10:15:27.354233",
          "exception": false,
          "start_time": "2024-11-20T10:15:25.780427",
          "status": "completed"
        },
        "tags": [],
        "id": "6aabedb2",
        "outputId": "887778a7-2006-4c42-8304-93624341b17f"
      },
      "outputs": [
        {
          "name": "stdout",
          "output_type": "stream",
          "text": [
            " INPUT:\n",
            "'ویکی پدیا برای نخستین بار در تاریخ ژانویه دی و فقط به زبان انگلیسی به نام به دنیای تازه اینترنت وصل شد. ویکی پدیا از ژانویه یکی از قابلیت های به شمار می رفت. به این صورت که نویسندگان عمومی می توانستند مقاله های خود را در آن وارد کنند تا پس از مرور در نیوپدیا قرار گیرد ولی پس از آن که هیئت مشورتی کارشناسان نیوپدیا مدل تولید آن را رد کرد از وبگاه نیوپدیا برداشته شد. بعد از آن ویکی پدیا به صورت پروژه ای جدا از نیوپدیا شروع به کار کرد. سیاست که شبیه به سیاست پیشین بی طرفی نیوپدیا بود در همان ماه های اول برنامه ریزی شد. ویکی پدیا سریعا شرکت کنندگانی از نیوپدیا اسلش دات و راهنماهای موتورهای جستجو بدست آورد. در پایان سال اول به تعداد ٬ مقاله بین زبان خود رسید. تا پایان سال تعداد زبان ها به پایان سال به و در پایان به تعداد زبان رسید. نیوپدیا و ویکی پدیا آنقدر کنار هم زیستند تا میزبان سرور نیوپدیا از کار افتاد و در سال متون آن به ویکی پدیا منتقل شد.'\n",
            "\n",
            " Tokenized:\n",
            " '['ویکی', 'پدیا', 'برای', 'نخستین', 'بار', 'در', 'تاریخ', 'ژانویه', 'دی', 'و', 'فقط', 'به', 'زبان', 'انگلیسی', 'به', 'نام', 'به', 'دنیای', 'تازه', 'اینترنت', 'وصل', 'شد.', 'ویکی', 'پدیا', 'از', 'ژانویه', 'یکی', 'از', 'قابلیت', 'های', 'به', 'شمار', 'می', 'رفت.', 'به', 'این', 'صورت', 'که', 'نویسندگان', 'عمومی', 'می', 'توانستند', 'مقاله', 'های', 'خود', 'را', 'در', 'آن', 'وارد', 'کنند', 'تا', 'پس', 'از', 'مرور', 'در', 'نیو', 'پدیا', 'قرار', 'گیرد', 'ولی', 'پس', 'از', 'آن', 'که', 'هیئت', 'مشورتی', 'کارشناسان', 'نیو', 'پدیا', 'مدل', 'تولید', 'آن', 'را', 'رد', 'کرد', 'از', 'وبگاه', 'نیو', 'پدیا', 'برداشته', 'شد.', 'بعد', 'از', 'آن', 'ویکی', 'پدیا', 'به', 'صورت', 'پروژه', 'ای', 'جدا', 'از', 'نیو', 'پدیا', 'شروع', 'به', 'کار', 'کرد.', 'سیاست', 'که', 'شبیه', 'به', 'سیاست', 'پیشین', 'بی', 'طرفی', 'نیو', 'پدیا', 'بود', 'در', 'همان', 'ماه', 'های', 'اول', 'برنامه', 'ریزی', 'شد.', 'ویکی', 'پدیا', 'سریعا', 'شرکت', 'کنند', 'گانی', 'از', 'نیو', 'پدیا', 'اسل', 'ش', 'دات', 'و', 'راهنما', 'های', 'موتورهای', 'جستجو', 'بدست', 'آورد.', 'در', 'پایان', 'سال', 'اول', 'به', 'تعداد', '٬', 'مقاله', 'بین', 'زبان', 'خود', 'رسید.', 'تا', 'پایان', 'سال', 'تعداد', 'زبان', 'ها', 'به', 'پایان', 'سال', 'به', 'و', 'در', 'پایان', 'به', 'تعداد', 'زبان', 'رسید.', 'نیو', 'پدیا', 'و', 'ویکی', 'پدیا', 'آنقدر', 'کنار', 'هم', 'زیستند', 'تا', 'میزبان', 'سرور', 'نیو', 'پدیا', 'از', 'کار', 'افتاد', 'و', 'در', 'سال', 'متون', 'آن', 'به', 'ویکی', 'پدیا', 'منتقل', 'شد.']'\n",
            "\n",
            " Token IDs:\n",
            " '[0, 4154, 6948, 1576, 2057, 1610, 1502, 1878, 3699, 1522, 501, 2763, 1506, 1689, 2329, 1506, 1574, 1506, 4401, 3387, 5236, 6388, 1599, 4154, 6948, 1505, 3699, 1672, 1505, 4171, 1518, 1506, 2204, 1504, 3376, 1506, 1523, 1778, 1516, 3876, 2587, 1504, 4331, 1863, 1518, 1597, 1508, 1502, 1534, 2195, 1907, 1582, 1625, 1505, 4994, 1502, 4212, 6948, 1646, 2752, 1784, 1625, 1505, 1534, 1516, 3403, 18759, 6634, 4212, 6948, 3092, 2022, 1534, 1508, 3179, 1595, 1505, 7366, 4212, 6948, 7200, 1599, 1840, 1505, 1534, 4154, 6948, 1506, 1778, 3446, 1500, 2561, 1505, 4212, 6948, 2511, 1506, 1591, 1678, 2643, 1516, 3594, 1506, 2643, 3909, 1532, 6495, 4212, 6948, 1544, 1502, 2047, 1790, 1518, 1757, 2109, 3822, 1599, 4154, 6948, 13867, 1984, 1907, 2927, 1505, 4212, 6948, 4583, 486, 2981, 501, 12590, 1518, 7240, 6366, 3261, 2863, 1502, 2121, 1556, 1757, 1506, 2263, 518, 1863, 1692, 1689, 1597, 2739, 1582, 2121, 1556, 2263, 1689, 1530, 1506, 2121, 1556, 1506, 501, 1502, 2121, 1506, 2263, 1689, 2739, 4212, 6948, 501, 4154, 6948, 9544, 2265, 1551, 12897, 1582, 5078, 6297, 4212, 6948, 1505, 1591, 4332, 501, 1502, 1556, 4491, 1534, 1506, 4154, 6948, 3693, 1599, 1]'\n",
            "\n",
            " Token IDs (truncate=20):\n",
            " '[0, 4154, 6948, 1576, 2057, 1610, 1502, 1878, 3699, 1522, 501, 2763, 1506, 1689, 2329, 1506, 1574, 1506, 4401, 3387]'\n",
            "\n",
            " Token IDs (truncate=10):\n",
            " '[0, 4154, 6948, 1576, 2057, 1610, 1502, 1878, 3699, 1522]'\n"
          ]
        }
      ],
      "source": [
        "test(sentences[10])"
      ]
    },
    {
      "cell_type": "code",
      "execution_count": null,
      "metadata": {
        "execution": {
          "iopub.execute_input": "2024-11-20T10:15:29.434532Z",
          "iopub.status.busy": "2024-11-20T10:15:29.434127Z",
          "iopub.status.idle": "2024-11-20T10:15:29.625558Z",
          "shell.execute_reply": "2024-11-20T10:15:29.624334Z"
        },
        "papermill": {
          "duration": 1.237246,
          "end_time": "2024-11-20T10:15:29.627764",
          "exception": false,
          "start_time": "2024-11-20T10:15:28.390518",
          "status": "completed"
        },
        "tags": [],
        "id": "c1ca1fb0",
        "outputId": "ddc44235-a0a3-4f6c-ce6b-2f3faf1ab166"
      },
      "outputs": [
        {
          "name": "stdout",
          "output_type": "stream",
          "text": [
            " INPUT:\n",
            "'نیویورک تایمز از قول هاآرتص می نویسد انجمن ایشا جایزه ای را برای بهترین ویرایشگر صهیونیست یعنی کسی که طی چهار سال آینده بتواند در بیشترین تغییرات صهیونیستی در ویکی پدیا مشارکت داشته باشد تعیین کرد. این جایزه مسافرت با بالون ورزشی بر فراز اسراییل است.'\n",
            "\n",
            " Tokenized:\n",
            " '['نیویورک', 'تایمز', 'از', 'قول', 'ها', 'آر', 'تص', 'می', 'نویسد', 'انجمن', 'ایش', 'ا', 'جایزه', 'ای', 'را', 'برای', 'بهترین', 'ویرایشگر', 'ص', 'هیو', 'نیست', 'یعنی', 'کسی', 'که', 'طی', 'چهار', 'سال', 'آینده', 'بتواند', 'در', 'بیشترین', 'تغییرات', 'ص', 'هیو', 'نیستی', 'در', 'ویکی', 'پدیا', 'مشارکت', 'داشته', 'باشد', 'تعیین', 'کرد.', 'این', 'جایزه', 'مسافرت', 'با', 'بال', 'ون', 'ورزشی', 'بر', 'فراز', 'اسراییل', 'است.']'\n",
            "\n",
            " Token IDs:\n",
            " '[0, 4382, 8895, 1505, 4418, 1530, 2223, 1723, 1504, 3630, 3197, 1755, 473, 2647, 1500, 1508, 1576, 2756, 17756, 487, 9038, 1922, 2171, 2378, 1516, 1837, 1906, 1556, 3823, 4594, 1502, 3736, 3945, 487, 9038, 8309, 1502, 4154, 6948, 5112, 1897, 1830, 3069, 1678, 1523, 2647, 7989, 1517, 1699, 1541, 4532, 1515, 5294, 11635, 1550, 1]'\n",
            "\n",
            " Token IDs (truncate=20):\n",
            " '[0, 4382, 8895, 1505, 4418, 1530, 2223, 1723, 1504, 3630, 3197, 1755, 473, 2647, 1500, 1508, 1576, 2756, 17756, 487]'\n",
            "\n",
            " Token IDs (truncate=10):\n",
            " '[0, 4382, 8895, 1505, 4418, 1530, 2223, 1723, 1504, 3630]'\n"
          ]
        }
      ],
      "source": [
        "test(sentences[42])"
      ]
    },
    {
      "cell_type": "markdown",
      "source": [
        "## Tokenize with Hazm (Pretrained)"
      ],
      "metadata": {
        "id": "REti3ZRQLlxQ"
      }
    },
    {
      "cell_type": "code",
      "source": [
        "!pip install numpy --upgrade -q\n",
        "!pip install hazm -q"
      ],
      "metadata": {
        "colab": {
          "base_uri": "https://localhost:8080/"
        },
        "id": "QHu_Uv-bL2hX",
        "outputId": "499bca49-e5b2-4a20-c079-f44c1f10460e"
      },
      "execution_count": null,
      "outputs": [
        {
          "output_type": "stream",
          "name": "stdout",
          "text": [
            "\u001b[2K     \u001b[90m━━━━━━━━━━━━━━━━━━━━━━━━━━━━━━━━━━━━━━━━\u001b[0m \u001b[32m62.0/62.0 kB\u001b[0m \u001b[31m1.8 MB/s\u001b[0m eta \u001b[36m0:00:00\u001b[0m\n",
            "\u001b[2K   \u001b[90m━━━━━━━━━━━━━━━━━━━━━━━━━━━━━━━━━━━━━━━━\u001b[0m \u001b[32m16.3/16.3 MB\u001b[0m \u001b[31m48.6 MB/s\u001b[0m eta \u001b[36m0:00:00\u001b[0m\n",
            "\u001b[?25h\u001b[31mERROR: pip's dependency resolver does not currently take into account all the packages that are installed. This behaviour is the source of the following dependency conflicts.\n",
            "cupy-cuda12x 12.2.0 requires numpy<1.27,>=1.20, but you have numpy 2.1.3 which is incompatible.\n",
            "gensim 4.3.3 requires numpy<2.0,>=1.18.5, but you have numpy 2.1.3 which is incompatible.\n",
            "langchain 0.3.7 requires numpy<2,>=1; python_version < \"3.12\", but you have numpy 2.1.3 which is incompatible.\n",
            "matplotlib 3.8.0 requires numpy<2,>=1.21, but you have numpy 2.1.3 which is incompatible.\n",
            "numba 0.60.0 requires numpy<2.1,>=1.22, but you have numpy 2.1.3 which is incompatible.\n",
            "pytensor 2.26.3 requires numpy<2,>=1.17.0, but you have numpy 2.1.3 which is incompatible.\n",
            "tensorflow 2.17.1 requires numpy<2.0.0,>=1.23.5; python_version <= \"3.11\", but you have numpy 2.1.3 which is incompatible.\n",
            "thinc 8.2.5 requires numpy<2.0.0,>=1.19.0; python_version >= \"3.9\", but you have numpy 2.1.3 which is incompatible.\u001b[0m\u001b[31m\n",
            "\u001b[0m  Preparing metadata (setup.py) ... \u001b[?25l\u001b[?25hdone\n",
            "\u001b[2K   \u001b[90m━━━━━━━━━━━━━━━━━━━━━━━━━━━━━━━━━━━━━━━━\u001b[0m \u001b[32m892.6/892.6 kB\u001b[0m \u001b[31m15.8 MB/s\u001b[0m eta \u001b[36m0:00:00\u001b[0m\n",
            "\u001b[2K   \u001b[90m━━━━━━━━━━━━━━━━━━━━━━━━━━━━━━━━━━━━━━━━\u001b[0m \u001b[32m17.3/17.3 MB\u001b[0m \u001b[31m27.1 MB/s\u001b[0m eta \u001b[36m0:00:00\u001b[0m\n",
            "\u001b[2K   \u001b[90m━━━━━━━━━━━━━━━━━━━━━━━━━━━━━━━━━━━━━━━━\u001b[0m \u001b[32m4.4/4.4 MB\u001b[0m \u001b[31m43.7 MB/s\u001b[0m eta \u001b[36m0:00:00\u001b[0m\n",
            "\u001b[2K   \u001b[90m━━━━━━━━━━━━━━━━━━━━━━━━━━━━━━━━━━━━━━━━\u001b[0m \u001b[32m1.2/1.2 MB\u001b[0m \u001b[31m28.6 MB/s\u001b[0m eta \u001b[36m0:00:00\u001b[0m\n",
            "\u001b[2K   \u001b[90m━━━━━━━━━━━━━━━━━━━━━━━━━━━━━━━━━━━━━━━━\u001b[0m \u001b[32m243.3/243.3 kB\u001b[0m \u001b[31m12.1 MB/s\u001b[0m eta \u001b[36m0:00:00\u001b[0m\n",
            "\u001b[?25h  Building wheel for flashtext (setup.py) ... \u001b[?25l\u001b[?25hdone\n",
            "\u001b[31mERROR: pip's dependency resolver does not currently take into account all the packages that are installed. This behaviour is the source of the following dependency conflicts.\n",
            "albucore 0.0.19 requires numpy>=1.24.4, but you have numpy 1.24.3 which is incompatible.\n",
            "albumentations 1.4.20 requires numpy>=1.24.4, but you have numpy 1.24.3 which is incompatible.\u001b[0m\u001b[31m\n",
            "\u001b[0m"
          ]
        }
      ]
    },
    {
      "cell_type": "code",
      "source": [
        "import hazm\n",
        "\n",
        "class HazmTokenizer:\n",
        "    def __init__(self):\n",
        "        self.tokenizer = hazm.WordTokenizer()\n",
        "        self.BOS = 0 # Beginning of Sequence\n",
        "        self.EOS = 1 # End of Sequence\n",
        "        self.UNK = 2 # Unknown\n",
        "        self.PAD = 3 # Padding\n",
        "        self.MSK = 4 # Mask\n",
        "        self.token2id = {'<BOS>':0, '<EOS>':1, '<UNK>':2, '<PAD>':3, '<MSK>':4}\n",
        "        self.id2token = {0:'<BOS>', 1:'<EOS>', 2:'<UNK>', 3:'<PAD>', 4:'<MSK>'}\n",
        "        self.id_counter = 5\n",
        "\n",
        "\n",
        "    def tokens_to_ids(self, tokens, truncate_size=None):\n",
        "        tokens = ['<BOS>'] + tokens + ['<EOS>']\n",
        "        res = []\n",
        "        max_len = len(tokens) if truncate_size is None else min(len(tokens), truncate_size)\n",
        "        for i in range(max_len):\n",
        "            if tokens[i] in self.token2id:\n",
        "                res.append(self.token2id[tokens[i]])\n",
        "            else:\n",
        "                res.append(self.UNK)\n",
        "\n",
        "        if truncate_size is not None:\n",
        "           res = res + [self.PAD]*(truncate_size - len(res))\n",
        "        return res\n",
        "\n",
        "\n",
        "    def ids_to_tokens(self, ids, remove_specials=True):\n",
        "        if remove_specials:\n",
        "            ids = [i for i in ids if i not in [self.EOS, self.BOS, self.PAD, self.MSK]]\n",
        "\n",
        "        res = []\n",
        "        for i in ids:\n",
        "            if i in self.id2token:\n",
        "                res.append(self.id2token[i])\n",
        "            else:\n",
        "                res.append('<UNK>')\n",
        "        return res\n",
        "\n",
        "\n",
        "    def tokenize(self, text):\n",
        "        tokens = self.tokenizer.tokenize(text)\n",
        "        for token in tokens:\n",
        "            if token not in self.token2id:\n",
        "                self.token2id[token] = self.id_counter\n",
        "                self.id2token[self.id_counter] = token\n",
        "                self.id_counter += 1\n",
        "\n",
        "        return tokens\n",
        "\n",
        "\n",
        "    def get_vocab_size(self):\n",
        "        return self.id_counter"
      ],
      "metadata": {
        "id": "70jMxVcELq8e"
      },
      "execution_count": null,
      "outputs": []
    },
    {
      "cell_type": "markdown",
      "source": [
        "### Train Tokenizer\n",
        "train hazm tokenizer by employing the tokenizer across the entire dataset"
      ],
      "metadata": {
        "id": "a_RB00gXWNLf"
      }
    },
    {
      "cell_type": "code",
      "source": [
        "from tqdm import tqdm\n",
        "import pickle\n",
        "\n",
        "hazm_tokenizer = HazmTokenizer()\n",
        "\n",
        "tokenized_sentences = []\n",
        "for sent in tqdm(sentences):\n",
        "    tokenized_sentences.append(hazm_tokenizer.tokenize(sent))"
      ],
      "metadata": {
        "colab": {
          "base_uri": "https://localhost:8080/"
        },
        "id": "fT6FRF5XL4Xm",
        "outputId": "c783db3e-9b21-48a1-bff9-db892366df68"
      },
      "execution_count": null,
      "outputs": [
        {
          "output_type": "stream",
          "name": "stderr",
          "text": [
            "100%|██████████| 194741/194741 [00:18<00:00, 10304.28it/s]\n"
          ]
        }
      ]
    },
    {
      "cell_type": "markdown",
      "source": [
        "### Test tokenizer"
      ],
      "metadata": {
        "id": "vQ8uqGUJWTQ0"
      }
    },
    {
      "cell_type": "code",
      "source": [
        "def test(text):\n",
        "    tokens = hazm_tokenizer.tokenize(text)\n",
        "    ids = hazm_tokenizer.tokens_to_ids(tokens)\n",
        "\n",
        "    print(f\" INPUT:\\n'{text}'\")\n",
        "    print(f\"\\n Tokenized:\\n '{tokens}'\")\n",
        "    print(f\"\\n Token IDs:\\n '{ids}'\")\n",
        "    print(f\"\\n Token IDs (truncate=20):\\n '{hazm_tokenizer.tokens_to_ids(tokens, truncate_size=20)}'\")\n",
        "    print(f\"\\n Token IDs (truncate=10):\\n '{hazm_tokenizer.tokens_to_ids(tokens, truncate_size=10)}'\")"
      ],
      "metadata": {
        "id": "HSiHDyNEWVP9"
      },
      "execution_count": null,
      "outputs": []
    },
    {
      "cell_type": "code",
      "source": [
        "test(sentences[1])"
      ],
      "metadata": {
        "colab": {
          "base_uri": "https://localhost:8080/"
        },
        "id": "syAjqPwTWXI_",
        "outputId": "c6f88914-e134-4e61-f5aa-1937dea977d4"
      },
      "execution_count": null,
      "outputs": [
        {
          "output_type": "stream",
          "name": "stdout",
          "text": [
            " INPUT:\n",
            "'عنوان مقاله ویکی پدیا'\n",
            "\n",
            " Tokenized:\n",
            " '['عنوان', 'مقاله', 'ویکی', 'پدیا']'\n",
            "\n",
            " Token IDs:\n",
            " '[0, 5, 6, 9, 10, 1]'\n",
            "\n",
            " Token IDs (truncate=20):\n",
            " '[0, 5, 6, 9, 10, 1, 3, 3, 3, 3, 3, 3, 3, 3, 3, 3, 3, 3, 3, 3]'\n",
            "\n",
            " Token IDs (truncate=10):\n",
            " '[0, 5, 6, 9, 10, 1, 3, 3, 3, 3]'\n"
          ]
        }
      ]
    },
    {
      "cell_type": "code",
      "source": [
        "test(sentences[10])"
      ],
      "metadata": {
        "colab": {
          "base_uri": "https://localhost:8080/"
        },
        "id": "DydZKJLrWdnt",
        "outputId": "5e85e059-509e-41c0-a0a4-a06203f77871"
      },
      "execution_count": null,
      "outputs": [
        {
          "output_type": "stream",
          "name": "stdout",
          "text": [
            " INPUT:\n",
            "'ویکی پدیا برای نخستین بار در تاریخ ژانویه دی و فقط به زبان انگلیسی به نام به دنیای تازه اینترنت وصل شد. ویکی پدیا از ژانویه یکی از قابلیت های به شمار می رفت. به این صورت که نویسندگان عمومی می توانستند مقاله های خود را در آن وارد کنند تا پس از مرور در نیوپدیا قرار گیرد ولی پس از آن که هیئت مشورتی کارشناسان نیوپدیا مدل تولید آن را رد کرد از وبگاه نیوپدیا برداشته شد. بعد از آن ویکی پدیا به صورت پروژه ای جدا از نیوپدیا شروع به کار کرد. سیاست که شبیه به سیاست پیشین بی طرفی نیوپدیا بود در همان ماه های اول برنامه ریزی شد. ویکی پدیا سریعا شرکت کنندگانی از نیوپدیا اسلش دات و راهنماهای موتورهای جستجو بدست آورد. در پایان سال اول به تعداد ٬ مقاله بین زبان خود رسید. تا پایان سال تعداد زبان ها به پایان سال به و در پایان به تعداد زبان رسید. نیوپدیا و ویکی پدیا آنقدر کنار هم زیستند تا میزبان سرور نیوپدیا از کار افتاد و در سال متون آن به ویکی پدیا منتقل شد.'\n",
            "\n",
            " Tokenized:\n",
            " '['ویکی', 'پدیا', 'برای', 'نخستین', 'بار', 'در', 'تاریخ', 'ژانویه', 'دی', 'و', 'فقط', 'به', 'زبان', 'انگلیسی', 'به', 'نام', 'به', 'دنیای', 'تازه', 'اینترنت', 'وصل', 'شد', '.', 'ویکی', 'پدیا', 'از', 'ژانویه', 'یکی', 'از', 'قابلیت', 'های', 'به', 'شمار', 'می', 'رفت', '.', 'به', 'این', 'صورت', 'که', 'نویسندگان', 'عمومی', 'می', 'توانستند', 'مقاله', 'های', 'خود', 'را', 'در', 'آن', 'وارد', 'کنند', 'تا', 'پس', 'از', 'مرور', 'در', 'نیوپدیا', 'قرار', 'گیرد', 'ولی', 'پس', 'از', 'آن', 'که', 'هیئت', 'مشورتی', 'کارشناسان', 'نیوپدیا', 'مدل', 'تولید', 'آن', 'را', 'رد', 'کرد', 'از', 'وبگاه', 'نیوپدیا', 'برداشته', 'شد', '.', 'بعد', 'از', 'آن', 'ویکی', 'پدیا', 'به', 'صورت', 'پروژه', 'ای', 'جدا', 'از', 'نیوپدیا', 'شروع', 'به', 'کار', 'کرد', '.', 'سیاست', 'که', 'شبیه', 'به', 'سیاست', 'پیشین', 'بی', 'طرفی', 'نیوپدیا', 'بود', 'در', 'همان', 'ماه', 'های', 'اول', 'برنامه', 'ریزی', 'شد', '.', 'ویکی', 'پدیا', 'سریعا', 'شرکت', 'کنندگانی', 'از', 'نیوپدیا', 'اسلش', 'دات', 'و', 'راهنماهای', 'موتورهای', 'جستجو', 'بدست', 'آورد', '.', 'در', 'پایان', 'سال', 'اول', 'به', 'تعداد', '٬', 'مقاله', 'بین', 'زبان', 'خود', 'رسید', '.', 'تا', 'پایان', 'سال', 'تعداد', 'زبان', 'ها', 'به', 'پایان', 'سال', 'به', 'و', 'در', 'پایان', 'به', 'تعداد', 'زبان', 'رسید', '.', 'نیوپدیا', 'و', 'ویکی', 'پدیا', 'آنقدر', 'کنار', 'هم', 'زیستند', 'تا', 'میزبان', 'سرور', 'نیوپدیا', 'از', 'کار', 'افتاد', 'و', 'در', 'سال', 'متون', 'آن', 'به', 'ویکی', 'پدیا', 'منتقل', 'شد', '.']'\n",
            "\n",
            " Token IDs:\n",
            " '[0, 9, 10, 76, 310, 380, 71, 72, 73, 74, 16, 381, 13, 66, 70, 13, 49, 13, 382, 383, 38, 384, 301, 48, 9, 10, 53, 73, 112, 53, 385, 54, 13, 116, 34, 386, 48, 13, 96, 14, 30, 387, 346, 34, 388, 6, 54, 351, 44, 71, 43, 389, 390, 110, 391, 53, 392, 71, 78, 269, 393, 358, 391, 53, 43, 30, 394, 395, 289, 78, 396, 363, 43, 44, 397, 285, 53, 55, 78, 398, 301, 48, 399, 53, 43, 9, 10, 13, 14, 92, 51, 400, 53, 78, 401, 13, 284, 285, 48, 174, 30, 402, 13, 174, 403, 175, 176, 78, 287, 71, 404, 405, 54, 406, 407, 408, 301, 48, 9, 10, 409, 297, 410, 53, 78, 411, 412, 16, 413, 414, 415, 416, 417, 48, 71, 108, 302, 406, 13, 151, 418, 6, 335, 66, 351, 419, 48, 110, 108, 302, 151, 66, 133, 13, 108, 302, 13, 16, 71, 108, 13, 151, 66, 419, 48, 78, 16, 9, 10, 420, 421, 87, 422, 110, 94, 315, 78, 53, 284, 423, 16, 71, 302, 424, 43, 13, 9, 10, 425, 301, 48, 1]'\n",
            "\n",
            " Token IDs (truncate=20):\n",
            " '[0, 9, 10, 76, 310, 380, 71, 72, 73, 74, 16, 381, 13, 66, 70, 13, 49, 13, 382, 383]'\n",
            "\n",
            " Token IDs (truncate=10):\n",
            " '[0, 9, 10, 76, 310, 380, 71, 72, 73, 74]'\n"
          ]
        }
      ]
    },
    {
      "cell_type": "code",
      "source": [
        "test(sentences[42])"
      ],
      "metadata": {
        "colab": {
          "base_uri": "https://localhost:8080/"
        },
        "id": "18V06BMfWgbO",
        "outputId": "ed4a377d-e860-49a1-feb2-db37c5acec91"
      },
      "execution_count": null,
      "outputs": [
        {
          "output_type": "stream",
          "name": "stdout",
          "text": [
            " INPUT:\n",
            "'نیویورک تایمز از قول هاآرتص می نویسد انجمن ایشا جایزه ای را برای بهترین ویرایشگر صهیونیست یعنی کسی که طی چهار سال آینده بتواند در بیشترین تغییرات صهیونیستی در ویکی پدیا مشارکت داشته باشد تعیین کرد. این جایزه مسافرت با بالون ورزشی بر فراز اسراییل است.'\n",
            "\n",
            " Tokenized:\n",
            " '['نیویورک', 'تایمز', 'از', 'قول', 'هاآرتص', 'می', 'نویسد', 'انجمن', 'ایشا', 'جایزه', 'ای', 'را', 'برای', 'بهترین', 'ویرایشگر', 'صهیونیست', 'یعنی', 'کسی', 'که', 'طی', 'چهار', 'سال', 'آینده', 'بتواند', 'در', 'بیشترین', 'تغییرات', 'صهیونیستی', 'در', 'ویکی', 'پدیا', 'مشارکت', 'داشته_باشد', 'تعیین', 'کرد', '.', 'این', 'جایزه', 'مسافرت', 'با', 'بالون', 'ورزشی', 'بر', 'فراز', 'اسراییل', 'است', '.']'\n",
            "\n",
            " Token IDs:\n",
            " '[0, 1044, 1045, 53, 1046, 1047, 34, 1048, 976, 1085, 1086, 51, 44, 76, 1087, 1088, 1089, 1090, 37, 30, 1091, 719, 302, 1092, 1093, 71, 1094, 780, 1095, 71, 9, 10, 504, 40, 1096, 285, 48, 96, 1086, 1097, 24, 1098, 1099, 22, 1100, 1101, 29, 48, 1]'\n",
            "\n",
            " Token IDs (truncate=20):\n",
            " '[0, 1044, 1045, 53, 1046, 1047, 34, 1048, 976, 1085, 1086, 51, 44, 76, 1087, 1088, 1089, 1090, 37, 30]'\n",
            "\n",
            " Token IDs (truncate=10):\n",
            " '[0, 1044, 1045, 53, 1046, 1047, 34, 1048, 976, 1085]'\n"
          ]
        }
      ]
    },
    {
      "cell_type": "markdown",
      "metadata": {
        "id": "c8b5f22a",
        "papermill": {
          "duration": 0.010158,
          "end_time": "2024-11-23T17:36:29.511721",
          "exception": false,
          "start_time": "2024-11-23T17:36:29.501563",
          "status": "completed"
        },
        "tags": []
      },
      "source": [
        "# N-gram RNN Language Model"
      ]
    },
    {
      "cell_type": "markdown",
      "metadata": {
        "id": "94b362f2",
        "papermill": {
          "duration": 0.00991,
          "end_time": "2024-11-23T17:36:29.531610",
          "exception": false,
          "start_time": "2024-11-23T17:36:29.521700",
          "status": "completed"
        },
        "tags": []
      },
      "source": [
        "## Prepare dataset"
      ]
    },
    {
      "cell_type": "code",
      "execution_count": null,
      "metadata": {
        "execution": {
          "iopub.execute_input": "2024-11-23T17:36:29.552786Z",
          "iopub.status.busy": "2024-11-23T17:36:29.552504Z",
          "iopub.status.idle": "2024-11-23T17:36:33.259231Z",
          "shell.execute_reply": "2024-11-23T17:36:33.258357Z"
        },
        "id": "37d3a3b4",
        "outputId": "d6890bcb-89eb-4009-c538-70cf3e0fa789",
        "papermill": {
          "duration": 3.720429,
          "end_time": "2024-11-23T17:36:33.261928",
          "exception": false,
          "start_time": "2024-11-23T17:36:29.541499",
          "status": "completed"
        },
        "tags": []
      },
      "outputs": [
        {
          "name": "stderr",
          "output_type": "stream",
          "text": [
            "100%|██████████| 194741/194741 [00:03<00:00, 52647.21it/s]"
          ]
        },
        {
          "name": "stdout",
          "output_type": "stream",
          "text": [
            "\n",
            "\n",
            "[0, 1044, 1045, 53, 1046, 1047, 34, 1048, 976, 1085, 1086, 51, 44, 76, 1087, 1088, 1089, 1090, 37, 30, 1091, 719, 302, 1092, 1093, 71, 1094, 780, 1095, 71, 9, 10, 504, 40, 1096, 285, 48, 96, 1086, 1097, 24, 1098, 1099, 22, 1100, 1101, 29, 48, 1]\n",
            "\n",
            "[0, 4635, 2512, 13, 4781, 12, 30, 429, 13, 798, 432, 2976, 335, 29, 16, 432, 44, 798, 5349, 34, 2338, 16, 364, 4314, 29, 30, 53, 432, 71, 706, 1886, 316, 47, 440, 4781, 198, 530, 5350, 16, 5351, 351, 44, 13, 1521, 432, 5352, 16, 5353, 5354, 432, 44, 5355, 71, 5356, 782, 956, 16, 5357, 1362, 44, 13, 1082, 317, 47, 48, 4781, 13, 96, 5333, 16, 5333, 54, 2825, 4635, 2512, 3144, 2620, 16, 1760, 53, 2051, 432, 587, 28, 4308, 48, 71, 5056, 295, 5005, 351, 44, 13, 2815, 4030, 12, 440, 110, 689, 4601, 53, 4030, 5358, 4624, 110, 644, 71, 96, 495, 13, 4781, 468, 285, 30, 5247, 1886, 44, 13, 5359, 2107, 5360, 16, 1773, 13, 3513, 2270, 48, 1]\n"
          ]
        },
        {
          "name": "stderr",
          "output_type": "stream",
          "text": [
            "\n"
          ]
        }
      ],
      "source": [
        "token_ids = []\n",
        "\n",
        "for sent_tokens in tqdm(tokenized_sentences):\n",
        "    token_ids.append(tokenizer.tokens_to_ids(sent_tokens))\n",
        "\n",
        "print(f'\\n\\n{token_ids[42]}\\n')\n",
        "print(token_ids[420])"
      ]
    },
    {
      "cell_type": "code",
      "execution_count": null,
      "metadata": {
        "execution": {
          "iopub.execute_input": "2024-11-23T17:36:33.286423Z",
          "iopub.status.busy": "2024-11-23T17:36:33.286128Z",
          "iopub.status.idle": "2024-11-23T17:36:59.362397Z",
          "shell.execute_reply": "2024-11-23T17:36:59.361316Z"
        },
        "id": "2451549c",
        "outputId": "abc013c2-fcc5-4735-ede7-ac278616f4aa",
        "papermill": {
          "duration": 26.090359,
          "end_time": "2024-11-23T17:36:59.364305",
          "exception": false,
          "start_time": "2024-11-23T17:36:33.273946",
          "status": "completed"
        },
        "tags": []
      },
      "outputs": [
        {
          "name": "stderr",
          "output_type": "stream",
          "text": [
            "100%|██████████| 194741/194741 [00:13<00:00, 14293.15it/s]\n"
          ]
        }
      ],
      "source": [
        "import torch\n",
        "\n",
        "def generate_Ngram_samples(token_ids, n_gram):\n",
        "    inputs, targets = [], []\n",
        "    for sent_ids in tqdm(token_ids):\n",
        "        for i in range(n_gram-1, len(sent_ids)):\n",
        "            inputs.append(sent_ids[i-n_gram+1: i])\n",
        "            targets.append(sent_ids[i])\n",
        "\n",
        "    inputs = torch.tensor(inputs)\n",
        "    targets = torch.tensor(targets)\n",
        "    return inputs, targets\n",
        "\n",
        "\n",
        "n_gram = 3\n",
        "inputs, targets = generate_Ngram_samples(token_ids, n_gram)"
      ]
    },
    {
      "cell_type": "code",
      "execution_count": null,
      "metadata": {
        "execution": {
          "iopub.execute_input": "2024-11-23T17:36:59.394284Z",
          "iopub.status.busy": "2024-11-23T17:36:59.393781Z",
          "iopub.status.idle": "2024-11-23T17:37:00.594240Z",
          "shell.execute_reply": "2024-11-23T17:37:00.593280Z"
        },
        "id": "b6aa341f",
        "outputId": "6ee5978e-cb1b-4cc3-90b6-3e48567118f8",
        "papermill": {
          "duration": 1.217139,
          "end_time": "2024-11-23T17:37:00.596166",
          "exception": false,
          "start_time": "2024-11-23T17:36:59.379027",
          "status": "completed"
        },
        "tags": []
      },
      "outputs": [
        {
          "name": "stdout",
          "output_type": "stream",
          "text": [
            "train_dataset: 9715524\n",
            "val_dataset  : 1143003\n",
            "test_dataset : 571501\n"
          ]
        }
      ],
      "source": [
        "from torch.utils.data import TensorDataset, DataLoader\n",
        "\n",
        "dataset = TensorDataset(inputs, targets)\n",
        "train_dataset, val_dataset, test_dataset = torch.utils.data.random_split(dataset, [0.85, 0.10, 0.05])\n",
        "\n",
        "print(f'train_dataset: {len(train_dataset)}')\n",
        "print(f'val_dataset  : {len(val_dataset)}')\n",
        "print(f'test_dataset : {len(test_dataset)}')\n",
        "\n",
        "# Define the DataLoader for each set\n",
        "batch_size = 512\n",
        "train_loader = DataLoader(train_dataset, batch_size=batch_size, shuffle=True)\n",
        "val_loader = DataLoader(val_dataset, batch_size=batch_size, shuffle=False)\n",
        "test_loader = DataLoader(test_dataset, batch_size=batch_size, shuffle=False)"
      ]
    },
    {
      "cell_type": "markdown",
      "metadata": {
        "id": "7e7bad33",
        "papermill": {
          "duration": 0.013053,
          "end_time": "2024-11-23T17:37:00.623235",
          "exception": false,
          "start_time": "2024-11-23T17:37:00.610182",
          "status": "completed"
        },
        "tags": []
      },
      "source": [
        "## Model implementation"
      ]
    },
    {
      "cell_type": "code",
      "execution_count": null,
      "metadata": {
        "execution": {
          "iopub.execute_input": "2024-11-23T17:37:00.651349Z",
          "iopub.status.busy": "2024-11-23T17:37:00.650727Z",
          "iopub.status.idle": "2024-11-23T17:37:00.742691Z",
          "shell.execute_reply": "2024-11-23T17:37:00.741823Z"
        },
        "id": "7fc3f0e6",
        "papermill": {
          "duration": 0.107763,
          "end_time": "2024-11-23T17:37:00.744247",
          "exception": false,
          "start_time": "2024-11-23T17:37:00.636484",
          "status": "completed"
        },
        "tags": []
      },
      "outputs": [],
      "source": [
        "import torch\n",
        "import torch.nn as nn\n",
        "\n",
        "class LSTM_LM(nn.Module):\n",
        "    def __init__(self, embed_size, hidden_size, vocab_size, num_layers):\n",
        "        super().__init__()\n",
        "        self.hidden_size = hidden_size\n",
        "        self.num_layers = num_layers\n",
        "        self.embed_size = embed_size\n",
        "\n",
        "        self.encoder = nn.Embedding(vocab_size, embed_size)\n",
        "        self.lstm = nn.LSTM(\n",
        "            input_size = embed_size,\n",
        "            hidden_size = hidden_size,\n",
        "            num_layers = num_layers,\n",
        "            bidirectional = False,\n",
        "            batch_first = True,\n",
        "        )\n",
        "        self.decoder = nn.Sequential(\n",
        "            nn.Linear(hidden_size, vocab_size),\n",
        "            # nn.Softmax(dim=1)\n",
        "        )\n",
        "\n",
        "    def name(self):\n",
        "        return f'LSTM_model_ES{self.embed_size}_HS{self.hidden_size}_NL{self.num_layers}'\n",
        "\n",
        "    def forward(self, input):\n",
        "        embedded = self.encoder(input)\n",
        "        output, _ = self.lstm(embedded)\n",
        "        res = self.decoder(output[:,-1,:])\n",
        "        return res"
      ]
    },
    {
      "cell_type": "markdown",
      "metadata": {
        "id": "56e2502a",
        "papermill": {
          "duration": 0.013037,
          "end_time": "2024-11-23T17:37:00.770965",
          "exception": false,
          "start_time": "2024-11-23T17:37:00.757928",
          "status": "completed"
        },
        "tags": []
      },
      "source": [
        "## Model trining"
      ]
    },
    {
      "cell_type": "code",
      "execution_count": null,
      "metadata": {
        "execution": {
          "iopub.execute_input": "2024-11-23T17:37:00.798628Z",
          "iopub.status.busy": "2024-11-23T17:37:00.798082Z",
          "iopub.status.idle": "2024-11-23T17:37:04.168780Z",
          "shell.execute_reply": "2024-11-23T17:37:04.167943Z"
        },
        "id": "0adf7706",
        "papermill": {
          "duration": 3.386662,
          "end_time": "2024-11-23T17:37:04.170752",
          "exception": false,
          "start_time": "2024-11-23T17:37:00.784090",
          "status": "completed"
        },
        "tags": [],
        "outputId": "bfaf8f9e-1b2c-4bee-b2e3-fa1ce20960e8"
      },
      "outputs": [
        {
          "name": "stdout",
          "output_type": "stream",
          "text": [
            "=================================================================\n",
            "Layer (type:depth-idx)                   Param #\n",
            "=================================================================\n",
            "LSTM_LM                                  --\n",
            "├─Embedding: 1-1                         88,666,112\n",
            "├─LSTM: 1-2                              12,607,488\n",
            "├─Sequential: 1-3                        --\n",
            "│    └─Linear: 2-1                       88,839,288\n",
            "=================================================================\n",
            "Total params: 190,112,888\n",
            "Trainable params: 190,112,888\n",
            "Non-trainable params: 0\n",
            "=================================================================\n"
          ]
        }
      ],
      "source": [
        "from torchinfo import summary\n",
        "n_epochs = 4\n",
        "device =  torch.device('cuda' if torch.cuda.is_available() else 'cpu')\n",
        "vocab_size = tokenizer.get_vocab_size()\n",
        "\n",
        "model = LSTM_LM(embed_size=512, hidden_size=512, vocab_size=vocab_size, num_layers=6)\n",
        "model= model.to(device)\n",
        "optimizer = torch.optim.Adam(model.parameters(), lr = 0.01)\n",
        "criterion = nn.CrossEntropyLoss()\n",
        "\n",
        "print(summary(model))"
      ]
    },
    {
      "cell_type": "code",
      "execution_count": null,
      "metadata": {
        "execution": {
          "iopub.execute_input": "2024-11-23T17:37:04.199924Z",
          "iopub.status.busy": "2024-11-23T17:37:04.199534Z",
          "iopub.status.idle": "2024-11-23T19:37:31.909750Z",
          "shell.execute_reply": "2024-11-23T19:37:31.909025Z"
        },
        "id": "ae0749a8",
        "outputId": "fef4c77b-1cd5-47c1-beb5-0314865c2157",
        "papermill": {
          "duration": 7227.727204,
          "end_time": "2024-11-23T19:37:31.911978",
          "exception": false,
          "start_time": "2024-11-23T17:37:04.184774",
          "status": "completed"
        },
        "tags": []
      },
      "outputs": [
        {
          "name": "stderr",
          "output_type": "stream",
          "text": [
            "Training[1/4]: 100%|██████████| 18976/18976 [28:57<00:00, 10.92it/s, batch-loss:6.90921, avg-loss:6.96996]\n",
            "Validate[1/4]: 100%|██████████| 2233/2233 [00:58<00:00, 37.95it/s, batch-loss:6.82482, avg-loss:6.86299]\n"
          ]
        },
        {
          "name": "stdout",
          "output_type": "stream",
          "text": [
            "\n",
            "\n"
          ]
        },
        {
          "name": "stderr",
          "output_type": "stream",
          "text": [
            "Training[2/4]: 100%|██████████| 18976/18976 [29:05<00:00, 10.87it/s, batch-loss:6.58190, avg-loss:6.78416]\n",
            "Validate[2/4]: 100%|██████████| 2233/2233 [00:59<00:00, 37.66it/s, batch-loss:6.76040, avg-loss:6.77369]\n"
          ]
        },
        {
          "name": "stdout",
          "output_type": "stream",
          "text": [
            "\n",
            "\n"
          ]
        },
        {
          "name": "stderr",
          "output_type": "stream",
          "text": [
            "Training[3/4]: 100%|██████████| 18976/18976 [29:11<00:00, 10.84it/s, batch-loss:6.95741, avg-loss:6.71270]\n",
            "Validate[3/4]: 100%|██████████| 2233/2233 [00:58<00:00, 37.99it/s, batch-loss:6.77913, avg-loss:6.74992]\n"
          ]
        },
        {
          "name": "stdout",
          "output_type": "stream",
          "text": [
            "\n",
            "\n"
          ]
        },
        {
          "name": "stderr",
          "output_type": "stream",
          "text": [
            "Training[4/4]: 100%|██████████| 18976/18976 [29:16<00:00, 10.81it/s, batch-loss:6.35926, avg-loss:6.68571]\n",
            "Validate[4/4]: 100%|██████████| 2233/2233 [00:58<00:00, 37.93it/s, batch-loss:6.72899, avg-loss:6.73885]\n"
          ]
        },
        {
          "name": "stdout",
          "output_type": "stream",
          "text": [
            "\n",
            "\n"
          ]
        }
      ],
      "source": [
        "LOAD_MODEL = False\n",
        "\n",
        "\n",
        "def train_epoch(model, dataloader, criterion, optimizer, device, bar_desc='Training', display_bar=True):\n",
        "    model.train()\n",
        "    if display_bar:\n",
        "        bar = tqdm(total=len(dataloader), desc=bar_desc, postfix='', leave=True, position=0)\n",
        "\n",
        "    sum_loss = 0\n",
        "    all_losses = []\n",
        "    for batch_i, batch in enumerate(dataloader):\n",
        "        inputs, target = batch\n",
        "        inputs = inputs.to(device)\n",
        "        target = target.to(device)\n",
        "\n",
        "        optimizer.zero_grad()\n",
        "        outputs = model(inputs)\n",
        "        loss = criterion(outputs, target)\n",
        "        loss.backward()\n",
        "        optimizer.step()\n",
        "\n",
        "        sum_loss += loss.item()\n",
        "        all_losses.append(loss.item())\n",
        "\n",
        "        if display_bar:\n",
        "            avg_loss = sum_loss / (batch_i+1)\n",
        "            bar.set_postfix_str(f'batch-loss:{loss.item():.5f}, avg-loss:{avg_loss:.5f}')\n",
        "            bar.update(1)\n",
        "\n",
        "        inputs = inputs.cpu()\n",
        "        target = target.cpu()\n",
        "        del inputs, target\n",
        "\n",
        "    if display_bar: del bar\n",
        "\n",
        "    avg_loss = sum_loss / len(dataloader)\n",
        "    return  {'avg_loss' : avg_loss,'all-losses': all_losses}\n",
        "\n",
        "\n",
        "\n",
        "def val_epoch(model, dataloader, criterion, device, bar_desc='Validating', display_bar=True):\n",
        "    model.train()\n",
        "    if display_bar:\n",
        "        bar = tqdm(total=len(dataloader), desc=bar_desc, postfix='', leave=True, position=0)\n",
        "\n",
        "    sum_loss = 0\n",
        "    all_losses = []\n",
        "    for batch_i, batch in enumerate(dataloader):\n",
        "        inputs, target = batch\n",
        "        inputs = inputs.to(device)\n",
        "        target = target.to(device)\n",
        "\n",
        "        outputs = model(inputs)\n",
        "        loss = criterion(outputs, target)\n",
        "\n",
        "        sum_loss += loss.item()\n",
        "        all_losses.append(loss.item())\n",
        "\n",
        "        if display_bar:\n",
        "            avg_loss = sum_loss / (batch_i+1)\n",
        "            bar.set_postfix_str(f'batch-loss:{loss.item():.5f}, avg-loss:{avg_loss:.5f}')\n",
        "            bar.update(1)\n",
        "\n",
        "        inputs = inputs.cpu()\n",
        "        target = target.cpu()\n",
        "        del inputs, target\n",
        "\n",
        "    if display_bar: del bar\n",
        "\n",
        "    avg_loss = sum_loss / len(dataloader)\n",
        "    return  {'avg_loss' : avg_loss,'all-losses': all_losses}\n",
        "\n",
        "\n",
        "\n",
        "if LOAD_MODEL:\n",
        "    model.load_state_dict(torch.load(model.name() + '.pkl', weights_only=True, map_location=device))\n",
        "    model.eval()\n",
        "\n",
        "else:\n",
        "    results = []\n",
        "    for epoch in range(n_epochs):\n",
        "        res_train = train_epoch(model, train_loader, criterion, optimizer, device, bar_desc=f'Training[{epoch+1}/{n_epochs}]')\n",
        "        res_val = val_epoch(model, val_loader, criterion, device, bar_desc=f'Validate[{epoch+1}/{n_epochs}]')\n",
        "\n",
        "        print('\\n')\n",
        "        results.append((res_train, res_val))\n",
        "\n",
        "    torch.save(model.state_dict(), model.name() + '.pkl')"
      ]
    },
    {
      "cell_type": "code",
      "execution_count": null,
      "metadata": {
        "execution": {
          "iopub.execute_input": "2024-11-23T19:37:44.073550Z",
          "iopub.status.busy": "2024-11-23T19:37:44.073185Z",
          "iopub.status.idle": "2024-11-23T19:37:44.378242Z",
          "shell.execute_reply": "2024-11-23T19:37:44.377413Z"
        },
        "id": "e936eff3",
        "outputId": "a96a33e4-c450-41c6-90ef-d55783017ada",
        "papermill": {
          "duration": 6.359818,
          "end_time": "2024-11-23T19:37:44.380040",
          "exception": false,
          "start_time": "2024-11-23T19:37:38.020222",
          "status": "completed"
        },
        "tags": []
      },
      "outputs": [
        {
          "data": {
            "image/png": "[encoded data removed]",
            "text/plain": [
              "<Figure size 1000x400 with 1 Axes>"
            ]
          },
          "metadata": {},
          "output_type": "display_data"
        }
      ],
      "source": [
        "import matplotlib.pyplot as plt\n",
        "\n",
        "if not LOAD_MODEL:\n",
        "    epoch_train_loss = [x[0]['avg_loss'] for x in results]\n",
        "    epoch_val_loss = [x[1]['avg_loss'] for x in results]\n",
        "\n",
        "    plt.figure(figsize=(10, 4))\n",
        "    plt.plot(epoch_train_loss, label='Train Loss')\n",
        "    plt.plot(epoch_val_loss, label='Val Loss')\n",
        "\n",
        "    plt.tight_layout()\n",
        "    plt.legend()\n",
        "    plt.show()"
      ]
    },
    {
      "cell_type": "markdown",
      "metadata": {
        "id": "3bcab9f7",
        "papermill": {
          "duration": 5.913641,
          "end_time": "2024-11-23T19:37:56.389085",
          "exception": false,
          "start_time": "2024-11-23T19:37:50.475444",
          "status": "completed"
        },
        "tags": []
      },
      "source": [
        "## Pepelixity evaluation"
      ]
    },
    {
      "cell_type": "markdown",
      "metadata": {
        "id": "c48bb664",
        "papermill": {
          "duration": 5.945373,
          "end_time": "2024-11-23T19:38:08.535785",
          "exception": false,
          "start_time": "2024-11-23T19:38:02.590412",
          "status": "completed"
        },
        "tags": []
      },
      "source": [
        "<div dir=rtl>\n",
        "\n",
        "\n",
        "\n",
        "<h3> تعریف Perplexity </h3>\n",
        "\n",
        "\n",
        "\n",
        "- **فرمول:**  \n",
        "\n",
        "  $$\\text{Perplexity}(P) = 2^{H(P)} \\quad \\text{where} \\quad H(P) = -\\frac{1}{N} \\sum_{i=1}^{N} \\log_2 P(w_i)$$\n",
        "\n",
        "  \n",
        "\n",
        "- **تعریف:** Perplexity میزان پیش‌بینی‌پذیری یک توالی از کلمات را اندازه‌گیری می‌کند.\n",
        "\n",
        "\n",
        "\n",
        "- **معیار در توانایی مدل:** هر چه perplexity کمتر باشد، مدل بهتر می‌تواند کلمات را پیش‌بینی کند.\n",
        "\n",
        "- **استفاده در مدل‌های زبان:** معمولاً در ارزیابی و مقایسه مدل‌های مختلف مانند RNN، LSTM و Transformer به کار می‌رود.\n",
        "\n",
        "\n",
        "\n",
        "</div>\n"
      ]
    },
    {
      "cell_type": "code",
      "execution_count": null,
      "metadata": {
        "execution": {
          "iopub.execute_input": "2024-11-23T19:38:20.771870Z",
          "iopub.status.busy": "2024-11-23T19:38:20.771536Z",
          "iopub.status.idle": "2024-11-23T19:38:20.958208Z",
          "shell.execute_reply": "2024-11-23T19:38:20.957539Z"
        },
        "id": "8aa0ea22",
        "outputId": "951a2c87-8d81-48e3-b5f5-56e999dfdea2",
        "papermill": {
          "duration": 6.200155,
          "end_time": "2024-11-23T19:38:20.960052",
          "exception": false,
          "start_time": "2024-11-23T19:38:14.759897",
          "status": "completed"
        },
        "tags": []
      },
      "outputs": [
        {
          "name": "stdout",
          "output_type": "stream",
          "text": [
            "['و', 'توابع', 'آن'] ----> perplexity: +∞\n",
            "['تنها', 'در', 'نوشته'] ----> perplexity: +∞\n",
            "['باید', 'به', 'عنوان'] ----> perplexity: +∞\n",
            "['تعصبات', 'مذهبی', 'در'] ----> perplexity: +∞\n",
            "['چگونه', 'سبب', 'درخشش'] ----> perplexity: +∞\n",
            "['قتل', 'امیرکبیر', 'و'] ----> perplexity: +∞\n",
            "['پنجوین', 'شهرستان', 'سلیمانیه'] ----> perplexity: +∞\n",
            "['کرده_است', '.'] ----> perplexity: +∞\n",
            "['تفنگ', 'است', 'که'] ----> perplexity: +∞\n",
            "['.', 'هم', 'چنین'] ----> perplexity: +∞\n",
            "['مخالفان', 'خود', 'و'] ----> perplexity: +∞\n",
            "['با', 'این', 'همه'] ----> perplexity: +∞\n",
            "['هستند', 'که', 'ترودو'] ----> perplexity: +∞\n",
            "['فیده', 'در', 'نوامبر'] ----> perplexity: +∞\n",
            "['نیروی', 'دریایی', 'روسیه'] ----> perplexity: +∞\n"
          ]
        }
      ],
      "source": [
        "def perplexity(model, dataloader, samples=15):\n",
        "    model.eval()\n",
        "\n",
        "    def perplexity_fn(probabilities):\n",
        "        n = len(probabilities)\n",
        "        entropy = -torch.sum(torch.log2(probabilities)) / n\n",
        "        perplexity = 2 ** entropy\n",
        "        return perplexity\n",
        "\n",
        "    for sample in dataloader.dataset:\n",
        "        inputs, target = sample\n",
        "        inputs = torch.hstack((inputs, target))\n",
        "        text_ids = inputs.to(device)\n",
        "        probs = []\n",
        "        for i in range(1, len(text_ids)):\n",
        "            outputs = model(text_ids[None,:i])\n",
        "            probs.append(outputs[0, text_ids[i]])\n",
        "\n",
        "        probs = torch.stack(probs)\n",
        "        sample_perp = perplexity_fn(probs)\n",
        "\n",
        "        if not(sample_perp < torch.inf):\n",
        "            sample_perp = '+∞'\n",
        "\n",
        "        print(f'{tokenizer.ids_to_tokens(inputs.tolist())} ----> perplexity: {sample_perp}')\n",
        "        samples -= 1\n",
        "\n",
        "        inputs = inputs.cpu()\n",
        "        del inputs\n",
        "\n",
        "        if samples <= 0: break\n",
        "\n",
        "\n",
        "perplexity(model, test_loader)"
      ]
    },
    {
      "cell_type": "markdown",
      "metadata": {
        "id": "da1d5a2e",
        "papermill": {
          "duration": 6.016188,
          "end_time": "2024-11-23T19:38:33.107729",
          "exception": false,
          "start_time": "2024-11-23T19:38:27.091541",
          "status": "completed"
        },
        "tags": []
      },
      "source": [
        "## Text Generation"
      ]
    },
    {
      "cell_type": "code",
      "execution_count": null,
      "metadata": {
        "execution": {
          "iopub.execute_input": "2024-11-23T19:38:45.231096Z",
          "iopub.status.busy": "2024-11-23T19:38:45.230772Z",
          "iopub.status.idle": "2024-11-23T19:38:45.375445Z",
          "shell.execute_reply": "2024-11-23T19:38:45.374712Z"
        },
        "id": "fb24c064",
        "outputId": "479fb7ae-d6ec-43d8-9aae-5177e117c8f2",
        "papermill": {
          "duration": 6.212021,
          "end_time": "2024-11-23T19:38:45.377379",
          "exception": false,
          "start_time": "2024-11-23T19:38:39.165358",
          "status": "completed"
        },
        "tags": []
      },
      "outputs": [
        {
          "data": {
            "text/plain": [
              "'اساس مقاله در سال و این سال آن ها را از سال خود ها ها ها ها ها ها ها ها ها ها ها ها ها ها ها ها ها ها ها ها ها ها ها ها ها ها ها ها ها ها ها ها ها ها ها ها'"
            ]
          },
          "execution_count": 15,
          "metadata": {},
          "output_type": "execute_result"
        }
      ],
      "source": [
        "def generate(start_text, max_len=100):\n",
        "    start_text_tokens = tokenizer.tokenize(start_text)\n",
        "    start_text_ids = tokenizer.tokens_to_ids(start_text_tokens)\n",
        "    start_text_ids = torch.tensor(start_text_ids[:-1], device=device) # remove EOS and create Tensor\n",
        "\n",
        "    result = start_text_ids\n",
        "\n",
        "    while result[-1] != tokenizer.EOS and len(result) < max_len:\n",
        "      outputs = model(result[None,-n_gram:])\n",
        "      result = torch.hstack((result, outputs.argmax(dim=1)))\n",
        "\n",
        "    return tokenizer.ids_to_tokens(result.tolist())\n",
        "\n",
        "\n",
        "result = generate('',  max_len=50)\n",
        "' '.join(result)"
      ]
    },
    {
      "cell_type": "code",
      "execution_count": null,
      "metadata": {
        "execution": {
          "iopub.execute_input": "2024-11-23T19:38:57.527935Z",
          "iopub.status.busy": "2024-11-23T19:38:57.527178Z",
          "iopub.status.idle": "2024-11-23T19:38:57.614345Z",
          "shell.execute_reply": "2024-11-23T19:38:57.613464Z"
        },
        "papermill": {
          "duration": 6.163602,
          "end_time": "2024-11-23T19:38:57.616348",
          "exception": false,
          "start_time": "2024-11-23T19:38:51.452746",
          "status": "completed"
        },
        "tags": [],
        "id": "b1231e09",
        "outputId": "8affa8eb-45ca-43ef-b440-b091d2db5244"
      },
      "outputs": [
        {
          "data": {
            "text/plain": [
              "'گل های در کشور به کشور به شهر و این سال آن ها را از سال خود ها ها ها ها ها ها ها ها ها ها ها ها ها ها ها ها ها ها ها ها ها ها ها ها ها ها ها ها ها ها ها ها'"
            ]
          },
          "execution_count": 16,
          "metadata": {},
          "output_type": "execute_result"
        }
      ],
      "source": [
        "result = generate('گل',  max_len=50)\n",
        "' '.join(result)"
      ]
    },
    {
      "cell_type": "code",
      "execution_count": null,
      "metadata": {
        "execution": {
          "iopub.execute_input": "2024-11-23T19:39:09.573783Z",
          "iopub.status.busy": "2024-11-23T19:39:09.573406Z",
          "iopub.status.idle": "2024-11-23T19:39:09.658937Z",
          "shell.execute_reply": "2024-11-23T19:39:09.658064Z"
        },
        "papermill": {
          "duration": 6.060629,
          "end_time": "2024-11-23T19:39:09.660620",
          "exception": false,
          "start_time": "2024-11-23T19:39:03.599991",
          "status": "completed"
        },
        "tags": [],
        "id": "ae41864d",
        "outputId": "cc8f9982-7de8-4571-f419-f6f49ecc5942"
      },
      "outputs": [
        {
          "data": {
            "text/plain": [
              "'کتاب بسیار عالی را از سال خود ها ها ها ها ها ها ها ها ها ها ها ها ها ها ها ها ها ها ها ها ها ها ها ها ها ها ها ها ها ها ها ها ها ها ها ها ها ها ها ها ها ها'"
            ]
          },
          "execution_count": 17,
          "metadata": {},
          "output_type": "execute_result"
        }
      ],
      "source": [
        "result = generate('کتاب بسیار عالی',  max_len=50)\n",
        "' '.join(result)"
      ]
    },
    {
      "cell_type": "markdown",
      "metadata": {
        "id": "1916d45f",
        "papermill": {
          "duration": 0.009025,
          "end_time": "2024-11-23T16:42:37.531346",
          "exception": false,
          "start_time": "2024-11-23T16:42:37.522321",
          "status": "completed"
        },
        "tags": []
      },
      "source": [
        "# Transformer Language Model (TLM)"
      ]
    },
    {
      "cell_type": "markdown",
      "metadata": {
        "papermill": {
          "duration": 0.008805,
          "end_time": "2024-11-23T16:42:37.549232",
          "exception": false,
          "start_time": "2024-11-23T16:42:37.540427",
          "status": "completed"
        },
        "tags": [],
        "id": "39a87409"
      },
      "source": [
        "## Prepare dataset"
      ]
    },
    {
      "cell_type": "code",
      "execution_count": null,
      "metadata": {
        "execution": {
          "iopub.execute_input": "2024-11-23T16:42:37.568473Z",
          "iopub.status.busy": "2024-11-23T16:42:37.567921Z",
          "iopub.status.idle": "2024-11-23T16:42:42.583496Z",
          "shell.execute_reply": "2024-11-23T16:42:42.582513Z"
        },
        "id": "a194abeb",
        "outputId": "d12d0025-5b21-49f1-d9de-363a1a879f31",
        "papermill": {
          "duration": 5.027221,
          "end_time": "2024-11-23T16:42:42.585305",
          "exception": false,
          "start_time": "2024-11-23T16:42:37.558084",
          "status": "completed"
        },
        "tags": []
      },
      "outputs": [
        {
          "name": "stdout",
          "output_type": "stream",
          "text": [
            "torch.Size([15000, 500])\n"
          ]
        }
      ],
      "source": [
        "import torch\n",
        "\n",
        "MAX_LEN = 500\n",
        "MAX_DATA = 15000\n",
        "token_ids = []\n",
        "\n",
        "for sent_tokens in tokenized_sentences:\n",
        "    token_ids.append(tokenizer.tokens_to_ids(sent_tokens, truncate_size=MAX_LEN))\n",
        "    if len(token_ids) >= MAX_DATA:\n",
        "        break\n",
        "\n",
        "token_ids = torch.tensor(token_ids)\n",
        "\n",
        "print(token_ids.shape)"
      ]
    },
    {
      "cell_type": "code",
      "execution_count": null,
      "metadata": {
        "execution": {
          "iopub.execute_input": "2024-11-23T16:42:42.605972Z",
          "iopub.status.busy": "2024-11-23T16:42:42.605463Z",
          "iopub.status.idle": "2024-11-23T16:42:42.632280Z",
          "shell.execute_reply": "2024-11-23T16:42:42.631353Z"
        },
        "id": "c398b6e0",
        "outputId": "9a9a0dd3-2cef-4584-922e-904a76347e03",
        "papermill": {
          "duration": 0.038923,
          "end_time": "2024-11-23T16:42:42.633874",
          "exception": false,
          "start_time": "2024-11-23T16:42:42.594951",
          "status": "completed"
        },
        "tags": []
      },
      "outputs": [
        {
          "name": "stdout",
          "output_type": "stream",
          "text": [
            "train_dataset: 12750\n",
            "val_dataset  : 1500\n",
            "test_dataset : 750\n"
          ]
        }
      ],
      "source": [
        "from torch.utils.data import TensorDataset, DataLoader\n",
        "\n",
        "dataset = TensorDataset(token_ids)\n",
        "train_dataset, val_dataset, test_dataset = torch.utils.data.random_split(dataset, [0.85, 0.1, 0.05])\n",
        "\n",
        "print(f'train_dataset: {len(train_dataset)}')\n",
        "print(f'val_dataset  : {len(val_dataset)}')\n",
        "print(f'test_dataset : {len(test_dataset)}')\n",
        "\n",
        "# Define the DataLoader for each set\n",
        "batch_size = 10\n",
        "train_loader = DataLoader(train_dataset, batch_size=batch_size, shuffle=True)\n",
        "val_loader = DataLoader(val_dataset, batch_size=batch_size, shuffle=False)\n",
        "test_loader = DataLoader(test_dataset, batch_size=batch_size, shuffle=False)"
      ]
    },
    {
      "cell_type": "markdown",
      "metadata": {
        "papermill": {
          "duration": 0.008974,
          "end_time": "2024-11-23T16:42:42.652082",
          "exception": false,
          "start_time": "2024-11-23T16:42:42.643108",
          "status": "completed"
        },
        "tags": [],
        "id": "e42d3d82"
      },
      "source": [
        "## Model implementation"
      ]
    },
    {
      "cell_type": "code",
      "execution_count": null,
      "metadata": {
        "execution": {
          "iopub.execute_input": "2024-11-23T16:42:42.674169Z",
          "iopub.status.busy": "2024-11-23T16:42:42.673511Z",
          "iopub.status.idle": "2024-11-23T16:42:43.780583Z",
          "shell.execute_reply": "2024-11-23T16:42:43.779711Z"
        },
        "id": "bb8dd982",
        "papermill": {
          "duration": 1.120158,
          "end_time": "2024-11-23T16:42:43.782996",
          "exception": false,
          "start_time": "2024-11-23T16:42:42.662838",
          "status": "completed"
        },
        "tags": [],
        "outputId": "21f01616-a3f1-4b15-f36e-7585ed33e70b"
      },
      "outputs": [
        {
          "data": {
            "text/plain": [
              "<Axes: >"
            ]
          },
          "execution_count": 9,
          "metadata": {},
          "output_type": "execute_result"
        },
        {
          "data": {
            "image/png": "[encoded data removed]",
            "text/plain": [
              "<Figure size 640x480 with 2 Axes>"
            ]
          },
          "metadata": {},
          "output_type": "display_data"
        }
      ],
      "source": [
        "import torch\n",
        "import torch.nn as nn\n",
        "import seaborn as sns\n",
        "\n",
        "\n",
        "def sinusoidal_positional_embedding(L:'token_sequence_size', H:'token_embedding_dim', device, n=10000.0):\n",
        "    assert H % 2 == 0, \"Sinusoidal positional embedding cannot apply to odd token embedding dim\"\n",
        "\n",
        "    positions = torch.arange(0, L).unsqueeze_(1)\n",
        "    embeddings = torch.zeros(L, H)\n",
        "\n",
        "    denominators = torch.pow(n, 2*torch.arange(0, H//2)/H) # 10000^(2i/d_model), i is the index of embedding\n",
        "    embeddings[:, 0::2] = torch.sin(positions/denominators) # sin(pos/10000^(2i/d_model))\n",
        "    embeddings[:, 1::2] = torch.cos(positions/denominators) # cos(pos/10000^(2i/d_model))\n",
        "    return embeddings.to(device)\n",
        "\n",
        "\n",
        "# Decoder block with Attention and causal masking\n",
        "class DecoderBlock(nn.Module):\n",
        "    def __init__(self, hidden_size=128, num_heads=4):\n",
        "        super(DecoderBlock, self).__init__()\n",
        "        self.norm1 = nn.LayerNorm(hidden_size)\n",
        "        self.norm2 = nn.LayerNorm(hidden_size)\n",
        "        self.multihead_attn = nn.MultiheadAttention(\n",
        "            hidden_size,\n",
        "            num_heads=num_heads,\n",
        "            batch_first=True,\n",
        "            dropout=0.1,\n",
        "        )\n",
        "        self.feed_forward = nn.Sequential(\n",
        "            nn.Linear(hidden_size, hidden_size * 4),\n",
        "            nn.ELU(),\n",
        "            nn.Linear(hidden_size * 4, hidden_size)\n",
        "        )\n",
        "\n",
        "    def forward(self, x, padding_mask):\n",
        "        B, L, H = x.shape\n",
        "        causal_mask = torch.triu(torch.ones(L, L, device=device), 1).bool()\n",
        "        att_x = self.multihead_attn(x, x, x, attn_mask=causal_mask, key_padding_mask=padding_mask)[0]\n",
        "        x = self.norm1(att_x + x)\n",
        "        ff_x = self.feed_forward(x)\n",
        "        out = self.norm2(ff_x + x)\n",
        "        return out\n",
        "\n",
        "\n",
        "class Transformer_LM(nn.Module):\n",
        "    def __init__(self, vocab_size, hidden_size=128, num_layers=3, num_heads=4):\n",
        "        super(Transformer_LM, self).__init__()\n",
        "        self.num_heads = num_heads\n",
        "        self.hidden_size = hidden_size\n",
        "        self.num_layers = num_layers\n",
        "\n",
        "        self.embedding = nn.Embedding(vocab_size, hidden_size)\n",
        "        self.blocks = nn.ModuleList([\n",
        "            DecoderBlock(hidden_size, num_heads) for _ in range(num_layers)\n",
        "        ])\n",
        "        # Projection layer\n",
        "        self.fc_out = nn.Linear(hidden_size, vocab_size)\n",
        "\n",
        "\n",
        "    def name(self):\n",
        "        return f'TRANSFORMER_model_HS{self.hidden_size}_NH{self.num_heads}_NL{self.num_layers}'\n",
        "\n",
        "\n",
        "    def forward(self, input_seq):\n",
        "        padding_mask = input_seq == tokenizer.PAD\n",
        "\n",
        "        input_embs = self.embedding(input_seq)\n",
        "        N, L, H = input_embs.shape\n",
        "\n",
        "        # Add positional embeddings to token embeddings\n",
        "        pos_emb = sinusoidal_positional_embedding(L, H, input_seq.device)\n",
        "        embs = input_embs + pos_emb\n",
        "\n",
        "        for block in self.blocks:\n",
        "            embs = block(embs, padding_mask)\n",
        "\n",
        "        return self.fc_out(embs)\n",
        "\n",
        "\n",
        "sns.heatmap(sinusoidal_positional_embedding(500, 100, 'cpu'))"
      ]
    },
    {
      "cell_type": "markdown",
      "metadata": {
        "papermill": {
          "duration": 0.010649,
          "end_time": "2024-11-23T16:42:43.804680",
          "exception": false,
          "start_time": "2024-11-23T16:42:43.794031",
          "status": "completed"
        },
        "tags": [],
        "id": "3a2d3b15"
      },
      "source": [
        "## Model Training"
      ]
    },
    {
      "cell_type": "code",
      "execution_count": null,
      "metadata": {
        "execution": {
          "iopub.execute_input": "2024-11-23T16:42:43.827903Z",
          "iopub.status.busy": "2024-11-23T16:42:43.827001Z",
          "iopub.status.idle": "2024-11-23T16:42:46.034634Z",
          "shell.execute_reply": "2024-11-23T16:42:46.033779Z"
        },
        "papermill": {
          "duration": 2.22133,
          "end_time": "2024-11-23T16:42:46.036634",
          "exception": false,
          "start_time": "2024-11-23T16:42:43.815304",
          "status": "completed"
        },
        "tags": [],
        "id": "b5f9bfd4",
        "outputId": "a3f8192c-eb32-4bec-9896-67037a15419b"
      },
      "outputs": [
        {
          "name": "stdout",
          "output_type": "stream",
          "text": [
            "=====================================================================================\n",
            "Layer (type:depth-idx)                                       Param #\n",
            "=====================================================================================\n",
            "Transformer_LM                                               --\n",
            "├─Embedding: 1-1                                             44,333,056\n",
            "├─ModuleList: 1-2                                            --\n",
            "│    └─DecoderBlock: 2-1                                     --\n",
            "│    │    └─LayerNorm: 3-1                                   512\n",
            "│    │    └─LayerNorm: 3-2                                   512\n",
            "│    │    └─MultiheadAttention: 3-3                          263,168\n",
            "│    │    └─Sequential: 3-4                                  525,568\n",
            "│    └─DecoderBlock: 2-2                                     --\n",
            "│    │    └─LayerNorm: 3-5                                   512\n",
            "│    │    └─LayerNorm: 3-6                                   512\n",
            "│    │    └─MultiheadAttention: 3-7                          263,168\n",
            "│    │    └─Sequential: 3-8                                  525,568\n",
            "│    └─DecoderBlock: 2-3                                     --\n",
            "│    │    └─LayerNorm: 3-9                                   512\n",
            "│    │    └─LayerNorm: 3-10                                  512\n",
            "│    │    └─MultiheadAttention: 3-11                         263,168\n",
            "│    │    └─Sequential: 3-12                                 525,568\n",
            "│    └─DecoderBlock: 2-4                                     --\n",
            "│    │    └─LayerNorm: 3-13                                  512\n",
            "│    │    └─LayerNorm: 3-14                                  512\n",
            "│    │    └─MultiheadAttention: 3-15                         263,168\n",
            "│    │    └─Sequential: 3-16                                 525,568\n",
            "│    └─DecoderBlock: 2-5                                     --\n",
            "│    │    └─LayerNorm: 3-17                                  512\n",
            "│    │    └─LayerNorm: 3-18                                  512\n",
            "│    │    └─MultiheadAttention: 3-19                         263,168\n",
            "│    │    └─Sequential: 3-20                                 525,568\n",
            "│    └─DecoderBlock: 2-6                                     --\n",
            "│    │    └─LayerNorm: 3-21                                  512\n",
            "│    │    └─LayerNorm: 3-22                                  512\n",
            "│    │    └─MultiheadAttention: 3-23                         263,168\n",
            "│    │    └─Sequential: 3-24                                 525,568\n",
            "├─Linear: 1-3                                                44,506,232\n",
            "=====================================================================================\n",
            "Total params: 93,577,848\n",
            "Trainable params: 93,577,848\n",
            "Non-trainable params: 0\n",
            "=====================================================================================\n"
          ]
        }
      ],
      "source": [
        "from torchinfo import summary\n",
        "n_epochs = 4\n",
        "device =  torch.device('cuda' if torch.cuda.is_available() else 'cpu')\n",
        "vocab_size = tokenizer.get_vocab_size()\n",
        "\n",
        "model = Transformer_LM(vocab_size, hidden_size=256, num_layers=6, num_heads=4)\n",
        "model= model.to(device)\n",
        "optimizer = torch.optim.Adam(model.parameters(), lr = 0.05)\n",
        "criterion = nn.CrossEntropyLoss()\n",
        "\n",
        "print(summary(model))"
      ]
    },
    {
      "cell_type": "code",
      "execution_count": null,
      "metadata": {
        "execution": {
          "iopub.execute_input": "2024-11-23T16:42:46.061877Z",
          "iopub.status.busy": "2024-11-23T16:42:46.061001Z",
          "iopub.status.idle": "2024-11-23T17:59:03.373694Z",
          "shell.execute_reply": "2024-11-23T17:59:03.372670Z"
        },
        "papermill": {
          "duration": 4577.327192,
          "end_time": "2024-11-23T17:59:03.375927",
          "exception": false,
          "start_time": "2024-11-23T16:42:46.048735",
          "status": "completed"
        },
        "tags": [],
        "id": "729e7b03",
        "outputId": "d6192de2-d8a1-456e-95d1-52d896559e14"
      },
      "outputs": [
        {
          "name": "stderr",
          "output_type": "stream",
          "text": [
            "Training[1/4]: 100%|██████████| 1275/1275 [17:37<00:00,  1.21it/s, batch-loss:7.28563, avg-loss:7.68181]\n",
            "Validate[1/4]: 100%|██████████| 150/150 [01:26<00:00,  1.73it/s, batch-loss:7.38153, avg-loss:7.48059]\n"
          ]
        },
        {
          "name": "stdout",
          "output_type": "stream",
          "text": [
            "\n",
            "\n"
          ]
        },
        {
          "name": "stderr",
          "output_type": "stream",
          "text": [
            "Training[2/4]: 100%|██████████| 1275/1275 [17:36<00:00,  1.21it/s, batch-loss:7.66686, avg-loss:7.47737]\n",
            "Validate[2/4]: 100%|██████████| 150/150 [01:26<00:00,  1.74it/s, batch-loss:7.39944, avg-loss:7.51915]\n"
          ]
        },
        {
          "name": "stdout",
          "output_type": "stream",
          "text": [
            "\n",
            "\n"
          ]
        },
        {
          "name": "stderr",
          "output_type": "stream",
          "text": [
            "Training[3/4]: 100%|██████████| 1275/1275 [17:37<00:00,  1.21it/s, batch-loss:7.69931, avg-loss:7.50777]\n",
            "Validate[3/4]: 100%|██████████| 150/150 [01:26<00:00,  1.73it/s, batch-loss:7.54399, avg-loss:7.65725]\n"
          ]
        },
        {
          "name": "stdout",
          "output_type": "stream",
          "text": [
            "\n",
            "\n"
          ]
        },
        {
          "name": "stderr",
          "output_type": "stream",
          "text": [
            "Training[4/4]: 100%|██████████| 1275/1275 [17:38<00:00,  1.20it/s, batch-loss:7.54759, avg-loss:7.53048]\n",
            "Validate[4/4]: 100%|██████████| 150/150 [01:26<00:00,  1.73it/s, batch-loss:7.50641, avg-loss:7.61070]\n"
          ]
        },
        {
          "name": "stdout",
          "output_type": "stream",
          "text": [
            "\n",
            "\n"
          ]
        }
      ],
      "source": [
        "LOAD_MODEL = False\n",
        "\n",
        "\n",
        "def train_epoch(model, dataloader, criterion, optimizer, device, bar_desc='Training', display_bar=True):\n",
        "    model.train()\n",
        "    if display_bar:\n",
        "        bar = tqdm(total=len(dataloader), desc=bar_desc, postfix='', leave=True, position=0)\n",
        "\n",
        "    sum_loss = 0\n",
        "    all_losses = []\n",
        "    for batch_i, (inputs,) in enumerate(dataloader):\n",
        "        inputs = inputs.to(device)\n",
        "\n",
        "        optimizer.zero_grad()\n",
        "        outputs = model(inputs)\n",
        "\n",
        "        targets = inputs[:, 1:] # pick shifted input as target\n",
        "        outputs = outputs[:, :-1, :] # ignore the last token in output\n",
        "\n",
        "        targets = targets.reshape(-1)\n",
        "        outputs = outputs.reshape(-1, outputs.shape[-1])\n",
        "\n",
        "        non_pad_idices = torch.where(targets != tokenizer.PAD)[0]\n",
        "        targets = targets[non_pad_idices]\n",
        "        outputs = outputs[non_pad_idices]\n",
        "\n",
        "        loss = criterion(outputs, targets)\n",
        "        loss.backward()\n",
        "        optimizer.step()\n",
        "\n",
        "        sum_loss += loss.item()\n",
        "        all_losses.append(loss.item())\n",
        "\n",
        "        if display_bar:\n",
        "            avg_loss = sum_loss / (batch_i+1)\n",
        "            bar.set_postfix_str(f'batch-loss:{loss.item():.5f}, avg-loss:{avg_loss:.5f}')\n",
        "            bar.update(1)\n",
        "\n",
        "        inputs = inputs.cpu()\n",
        "        outputs = outputs.cpu()\n",
        "        targets = targets.cpu()\n",
        "        del inputs, outputs, targets\n",
        "\n",
        "    if display_bar: del bar\n",
        "\n",
        "    avg_loss = sum_loss / len(dataloader)\n",
        "    return  {'avg_loss' : avg_loss,'all-losses': all_losses}\n",
        "\n",
        "\n",
        "\n",
        "def val_epoch(model, dataloader, criterion, device, bar_desc='Validating', display_bar=True):\n",
        "    model.train()\n",
        "    if display_bar:\n",
        "        bar = tqdm(total=len(dataloader), desc=bar_desc, postfix='', leave=True, position=0)\n",
        "\n",
        "    sum_loss = 0\n",
        "    all_losses = []\n",
        "    for batch_i, (inputs,) in enumerate(dataloader):\n",
        "        inputs = inputs.to(device)\n",
        "        outputs = model(inputs)\n",
        "\n",
        "        targets = inputs[:, 1:] # pick shifted input as target\n",
        "        outputs = outputs[:, :-1, :] # ignore the last token in output\n",
        "\n",
        "        targets = targets.reshape(-1)\n",
        "        outputs = outputs.reshape(-1, outputs.shape[-1])\n",
        "\n",
        "        non_pad_idices = torch.where(targets != tokenizer.PAD)[0]\n",
        "        targets = targets[non_pad_idices]\n",
        "        outputs = outputs[non_pad_idices]\n",
        "\n",
        "        loss = criterion(outputs, targets).item()\n",
        "\n",
        "        sum_loss += loss\n",
        "        all_losses.append(loss)\n",
        "\n",
        "        if display_bar:\n",
        "            avg_loss = sum_loss / (batch_i+1)\n",
        "            bar.set_postfix_str(f'batch-loss:{loss:.5f}, avg-loss:{avg_loss:.5f}')\n",
        "            bar.update(1)\n",
        "\n",
        "        inputs = inputs.cpu()\n",
        "        outputs = outputs.cpu()\n",
        "        targets = targets.cpu()\n",
        "        del inputs, outputs, targets\n",
        "\n",
        "    if display_bar: del bar\n",
        "\n",
        "    avg_loss = sum_loss / len(dataloader)\n",
        "    return  {'avg_loss' : avg_loss,'all-losses': all_losses}\n",
        "\n",
        "\n",
        "\n",
        "\n",
        "if LOAD_MODEL:\n",
        "    model.load_state_dict(torch.load(model.name() + '.pkl', weights_only=True, map_location=device))\n",
        "    model.eval()\n",
        "\n",
        "else:\n",
        "    results = []\n",
        "    for epoch in range(n_epochs):\n",
        "        res_train = train_epoch(model, train_loader, criterion, optimizer, device, bar_desc=f'Training[{epoch+1}/{n_epochs}]')\n",
        "        res_val = val_epoch(model, val_loader, criterion, device, bar_desc=f'Validate[{epoch+1}/{n_epochs}]')\n",
        "\n",
        "        print('\\n')\n",
        "        results.append((res_train, res_val))\n",
        "\n",
        "    torch.save(model.state_dict(), model.name() + '.pkl')"
      ]
    },
    {
      "cell_type": "code",
      "execution_count": null,
      "metadata": {
        "execution": {
          "iopub.execute_input": "2024-11-23T17:59:04.441325Z",
          "iopub.status.busy": "2024-11-23T17:59:04.440975Z",
          "iopub.status.idle": "2024-11-23T17:59:04.627648Z",
          "shell.execute_reply": "2024-11-23T17:59:04.626809Z"
        },
        "papermill": {
          "duration": 0.699938,
          "end_time": "2024-11-23T17:59:04.629423",
          "exception": false,
          "start_time": "2024-11-23T17:59:03.929485",
          "status": "completed"
        },
        "tags": [],
        "id": "e22c3b51",
        "outputId": "f3889a90-3fed-4300-bf85-6e6e50abb2cb"
      },
      "outputs": [
        {
          "data": {
            "image/png": "[encoded data removed]",
            "text/plain": [
              "<Figure size 1000x400 with 1 Axes>"
            ]
          },
          "metadata": {},
          "output_type": "display_data"
        }
      ],
      "source": [
        "import matplotlib.pyplot as plt\n",
        "\n",
        "if not LOAD_MODEL:\n",
        "    epoch_train_loss = [x[0]['avg_loss'] for x in results]\n",
        "    epoch_val_loss = [x[1]['avg_loss'] for x in results]\n",
        "\n",
        "    plt.figure(figsize=(10, 4))\n",
        "    plt.plot(epoch_train_loss, label='Train Loss')\n",
        "    plt.plot(epoch_val_loss, label='Val Loss')\n",
        "\n",
        "    plt.tight_layout()\n",
        "    plt.legend()\n",
        "    plt.show()"
      ]
    },
    {
      "cell_type": "markdown",
      "metadata": {
        "papermill": {
          "duration": 0.504394,
          "end_time": "2024-11-23T17:59:05.685878",
          "exception": false,
          "start_time": "2024-11-23T17:59:05.181484",
          "status": "completed"
        },
        "tags": [],
        "id": "dd9a83e6"
      },
      "source": [
        "## Text Generation"
      ]
    },
    {
      "cell_type": "code",
      "execution_count": null,
      "metadata": {
        "execution": {
          "iopub.execute_input": "2024-11-23T17:59:06.785376Z",
          "iopub.status.busy": "2024-11-23T17:59:06.785021Z",
          "iopub.status.idle": "2024-11-23T17:59:07.723181Z",
          "shell.execute_reply": "2024-11-23T17:59:07.722092Z"
        },
        "papermill": {
          "duration": 1.480093,
          "end_time": "2024-11-23T17:59:07.724578",
          "exception": true,
          "start_time": "2024-11-23T17:59:06.244485",
          "status": "failed"
        },
        "tags": [],
        "colab": {
          "base_uri": "https://localhost:8080/",
          "height": 35
        },
        "id": "65a699da",
        "outputId": "f6b96d32-37e6-4c4a-9bb1-b691744f71a8"
      },
      "outputs": [
        {
          "output_type": "execute_result",
          "data": {
            "text/plain": [
              "'عنوان مقاله از مجله کتاب که به صورت رسمی محتوا '"
            ],
            "application/vnd.google.colaboratory.intrinsic+json": {
              "type": "string"
            }
          },
          "metadata": {},
          "execution_count": 3
        }
      ],
      "source": [
        "def generate(start_text, max_len=100):\n",
        "    start_text_tokens = tokenizer.tokenize(start_text)\n",
        "    start_text_ids = tokenizer.tokens_to_ids(start_text_tokens)\n",
        "    start_text_ids = torch.tensor(start_text_ids[:-1], device=device) # remove EOS\n",
        "\n",
        "    result = start_text_ids\n",
        "\n",
        "    while result[-1] != tokenizer.EOS and len(result) < max_len:\n",
        "        if len(result) < MAX_LEN:\n",
        "            pads = torch.tensor([tokenizer.PAD]*(MAX_LEN - len(result)), device=device)\n",
        "            inputs = torch.hstack((result,pads))\n",
        "            target_idx = len(result)-1\n",
        "        else:\n",
        "            inputs = result[-MAX_LEN:]\n",
        "            target_idx = MAX_LEN-1\n",
        "\n",
        "        outputs = model(inputs[None, :])\n",
        "        output = outputs[:, target_idx].argmax(dim=1)\n",
        "        result = torch.hstack((result, output))\n",
        "\n",
        "    return tokenizer.ids_to_tokens(result.tolist())\n",
        "\n",
        "\n",
        "result = generate('',  max_len=10)\n",
        "' '.join([])"
      ]
    },
    {
      "cell_type": "code",
      "execution_count": null,
      "metadata": {
        "papermill": {
          "duration": null,
          "end_time": null,
          "exception": null,
          "start_time": null,
          "status": "pending"
        },
        "tags": [],
        "id": "e4d11845",
        "colab": {
          "base_uri": "https://localhost:8080/",
          "height": 35
        },
        "outputId": "a3ad949d-0c04-44de-ad5d-ca280b5b4313"
      },
      "outputs": [
        {
          "output_type": "execute_result",
          "data": {
            "text/plain": [
              "'گل و گیاهان استان محل از از کار و است '"
            ],
            "application/vnd.google.colaboratory.intrinsic+json": {
              "type": "string"
            }
          },
          "metadata": {},
          "execution_count": 4
        }
      ],
      "source": [
        "result = generate('گل',  max_len=10)\n",
        "' '.join(result)"
      ]
    },
    {
      "cell_type": "code",
      "execution_count": null,
      "metadata": {
        "execution": {
          "iopub.execute_input": "2024-11-23T16:29:28.704827Z",
          "iopub.status.busy": "2024-11-23T16:29:28.704482Z",
          "iopub.status.idle": "2024-11-23T16:29:28.851098Z",
          "shell.execute_reply": "2024-11-23T16:29:28.849927Z",
          "shell.execute_reply.started": "2024-11-23T16:29:28.704798Z"
        },
        "papermill": {
          "duration": null,
          "end_time": null,
          "exception": null,
          "start_time": null,
          "status": "pending"
        },
        "tags": [],
        "id": "4c022d10",
        "colab": {
          "base_uri": "https://localhost:8080/",
          "height": 35
        },
        "outputId": "e6e36dd7-cde8-4890-d5da-4876d1f9767f"
      },
      "outputs": [
        {
          "output_type": "execute_result",
          "data": {
            "text/plain": [
              "'کتاب بسیار عالی گذشت از مجموعه سال ها سال ها'"
            ],
            "application/vnd.google.colaboratory.intrinsic+json": {
              "type": "string"
            }
          },
          "metadata": {},
          "execution_count": 5
        }
      ],
      "source": [
        "result = generate('کتاب بسیار عالی',  max_len=10)\n",
        "' '.join(result)"
      ]
    }
  ],
  "metadata": {
    "colab": {
      "collapsed_sections": [
        "KGufZEgsmxla",
        "-KuM0m2f__T1",
        "y7dHU-l1PINf"
      ],
      "provenance": [],
      "toc_visible": true
    },
    "kernelspec": {
      "display_name": "Python 3",
      "name": "python3"
    },
    "language_info": {
      "name": "python"
    }
  },
  "nbformat": 4,
  "nbformat_minor": 0
}